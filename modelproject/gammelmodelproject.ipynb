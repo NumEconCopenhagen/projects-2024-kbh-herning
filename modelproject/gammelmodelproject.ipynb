{
 "cells": [
  {
   "cell_type": "markdown",
   "metadata": {},
   "source": [
    "# YOUR PROJECT TITLE"
   ]
  },
  {
   "attachments": {},
   "cell_type": "markdown",
   "metadata": {},
   "source": [
    "> **Note the following:** \n",
    "> 1. This is *not* meant to be an example of an actual **model analysis project**, just an example of how to structure such a project.\n",
    "> 1. Remember the general advice on structuring and commenting your code\n",
    "> 1. The `modelproject.py` file includes a function which could be used multiple times in this notebook."
   ]
  },
  {
   "cell_type": "markdown",
   "metadata": {},
   "source": [
    "Imports and set magics:"
   ]
  },
  {
   "cell_type": "code",
   "execution_count": 16,
   "metadata": {},
   "outputs": [
    {
     "name": "stdout",
     "output_type": "stream",
     "text": [
      "The autoreload extension is already loaded. To reload it, use:\n",
      "  %reload_ext autoreload\n"
     ]
    }
   ],
   "source": [
    "import numpy as np\n",
    "from scipy import optimize\n",
    "import sympy as sm\n",
    "import matplotlib.pyplot as plt\n",
    "plt.rcParams.update({\"axes.grid\":True,\"grid.color\":\"black\",\"grid.alpha\":\"0.25\",\"grid.linestyle\":\"--\"})\n",
    "plt.rcParams.update({'font.size': 14})\n",
    "\n",
    "# autoreload modules when code is run\n",
    "%load_ext autoreload\n",
    "%autoreload 2\n",
    "\n",
    "# local modules\n",
    "import modelproject"
   ]
  },
  {
   "cell_type": "markdown",
   "metadata": {},
   "source": [
    "# Model description"
   ]
  },
  {
   "cell_type": "markdown",
   "metadata": {},
   "source": [
    "# Principal Agent model for forsikring I"
   ]
  },
  {
   "cell_type": "markdown",
   "metadata": {},
   "source": [
    "**Write out the model in equations here.** \n",
    "\n",
    "Make sure you explain well the purpose of the model and comment so that other students who may not have seen it before can follow.  "
   ]
  },
  {
   "cell_type": "markdown",
   "metadata": {},
   "source": [
    "The agent is a consumer whos utility depends on consumption $c$ given by the utility function $v(c)$.  \n",
    "The agents consumption depends on income $M$ and whether or not he experiences \"accidents\". \n",
    "\n",
    "If the agent experiences accidents he loses a portion of his income denoted by $L$\n",
    "\n",
    "with probability $\\pi$ he experiences an accident and gets: \n",
    "\n",
    "$$\n",
    "c = M - L\n",
    "$$\n",
    "\n",
    "with probability $(1-\\pi)$ he does not experience accidents and gets: \n",
    "\n",
    "$$\n",
    "c = M\n",
    "$$\n",
    "\n",
    "The principal is an insurance company, that sells insurances with a price $\\Gamma$ and payment of $K$;\n",
    "\n",
    "The agent pays the price and following scenarios can happen;\n",
    "\n",
    "with probability of $\\pi$ the agent experiences an accident and loses $L$, but gets the insurance payment of $K$, Thus\n",
    "\n",
    "$$\n",
    "c = M - \\Gamma - L + K\n",
    "$$\n",
    "\n",
    "with probability 1-$\\pi$ the agent does not experience accidents and gets: \n",
    "\n",
    "$$\n",
    "c = M - \\Gamma \n",
    "$$"
   ]
  },
  {
   "cell_type": "markdown",
   "metadata": {},
   "source": [
    "The agent has two options,\n",
    "\n",
    "To sign the insurance contract with the principal, or to choose the outside option denoted by $\\overline{v}$\n",
    "\n",
    "$$\n",
    "\\overline{v} = \\pi * v(M-L) + (1-\\pi) * v(M)\n",
    "$$\n",
    "\n",
    "we assume the agent maximizes utility and we assume $v' > 0$ and $v'' < 0$,\n",
    "which means that the agent likes to consume and would like to avoid risks. \n",
    "\n",
    "We also assume that the principal maximizes expected utility. \n",
    "\n",
    "We can now write up our principal agent problem, where $\\Gamma - K$ is profit for the principal without accidents and $\\Gamma$ is the profit without accidents.\n",
    "$$\n",
    "\\max_{\\Gamma, K} \\pi * (\\Gamma - K) + (1-\\pi) * \\Gamma\\\\\n",
    "\n",
    "s.t. \\\\\n",
    "\n",
    "\n",
    "\\pi * v(M - \\Gamma - L + K) + (1 - \\pi) * v(M - \\Gamma) \\underline{>} \\overline{v}\n",
    "$$ \n",
    "\n",
    "The contraint ensures that the agents utility by accepting the insurance contract is atleast as big as the utility he gets from choosing the outside option, when the function is maximized. "
   ]
  },
  {
   "cell_type": "markdown",
   "metadata": {},
   "source": [
    "## Analytical solution"
   ]
  },
  {
   "cell_type": "markdown",
   "metadata": {},
   "source": [
    "If your model allows for an analytical solution, you should provide here.\n",
    "\n",
    "You may use Sympy for this. Then you can characterize the solution as a function of a parameter of the model.\n",
    "\n",
    "To characterize the solution, first derive a steady state equation as a function of a parameter using Sympy.solve and then turn it into a python function by Sympy.lambdify. See the lecture notes for details. "
   ]
  },
  {
   "cell_type": "markdown",
   "metadata": {},
   "source": [
    "We start by defining $c_1 = M - \\Gamma$ as consumption with out accident and $c_2 = M - \\Gamma - L + K$ as consumption with accident.\n",
    "\n",
    "Note that if we choose a particular $\\Gamma$ and $K$ we can find $c_1$ and $c_2$ directly, and vice versa if we choose a particular $c_1$ and $c_2$.\n",
    "\n",
    "Thereby we can express the principal-Agent problem as following, \n",
    "$$\n",
    "\\max_{c_1,c_2} M - \\pi \\cdot L - (1-\\pi)c_1 - \\pi c_2 \\\\\n",
    "s.t. \\\\\n",
    "\\pi \\cdot v(c_2) + (1-\\pi) \\cdot v(c_1) \\geq \\overline{v} \n",
    "$$"
   ]
  },
  {
   "cell_type": "code",
   "execution_count": 17,
   "metadata": {},
   "outputs": [],
   "source": [
    "from modelproject import define_symbols, calculate_derivatives, solve_equations\n",
    "\n",
    "# Defines symbols\n",
    "L, M, pi, c_1, c_2, lam, v_overline, v = define_symbols()\n",
    "\n",
    "# calculates derivatives and formulates equations\n",
    "principal, condition, lagrange, Lc_1, Lc_2, Llam, v_diff_c1, v_diff_c2 = calculate_derivatives(L, M, pi, c_1, c_2, lam, v_overline, v)\n",
    "\n",
    "#passer "
   ]
  },
  {
   "cell_type": "markdown",
   "metadata": {},
   "source": [
    "1. We see that the second order condition must be binding\n",
    "$$\n",
    "\\pi \\cdot v(c_2) + (1-\\pi) \\cdot v(c_1) = \\overline{v} \n",
    "$$\n",
    "2. and then we solve the problem using lagrange."
   ]
  },
  {
   "cell_type": "code",
   "execution_count": 18,
   "metadata": {},
   "outputs": [
    {
     "name": "stdout",
     "output_type": "stream",
     "text": [
      "L = \n"
     ]
    },
    {
     "data": {
      "text/latex": [
       "$\\displaystyle - L \\pi + M - c_{1} \\cdot \\left(1 - \\pi\\right) - c_{2} \\pi + \\lambda \\left(- \\overline{v} + \\pi v{\\left(c_{2} \\right)} + \\left(1 - \\pi\\right) v{\\left(c_{1} \\right)}\\right)$"
      ],
      "text/plain": [
       "-L*pi + M - c_1*(1 - pi) - c_2*pi + lambda*(-\\overline{v} + pi*v(c_2) + (1 - pi)*v(c_1))"
      ]
     },
     "metadata": {},
     "output_type": "display_data"
    }
   ],
   "source": [
    "print('L = ')\n",
    "display(lagrange)"
   ]
  },
  {
   "cell_type": "markdown",
   "metadata": {},
   "source": [
    "Find the first order derivatives"
   ]
  },
  {
   "cell_type": "code",
   "execution_count": 19,
   "metadata": {},
   "outputs": [
    {
     "data": {
      "text/latex": [
       "$\\displaystyle 0 = \\lambda \\left(1 - \\pi\\right) \\frac{d}{d c_{1}} v{\\left(c_{1} \\right)} + \\pi - 1$"
      ],
      "text/plain": [
       "Eq(0, lambda*(1 - pi)*Derivative(v(c_1), c_1) + pi - 1)"
      ]
     },
     "metadata": {},
     "output_type": "display_data"
    },
    {
     "data": {
      "text/latex": [
       "$\\displaystyle 0 = \\lambda \\pi \\frac{d}{d c_{2}} v{\\left(c_{2} \\right)} - \\pi$"
      ],
      "text/plain": [
       "Eq(0, lambda*pi*Derivative(v(c_2), c_2) - pi)"
      ]
     },
     "metadata": {},
     "output_type": "display_data"
    },
    {
     "data": {
      "text/latex": [
       "$\\displaystyle 0 = - \\overline{v} + \\pi v{\\left(c_{2} \\right)} + \\left(1 - \\pi\\right) v{\\left(c_{1} \\right)}$"
      ],
      "text/plain": [
       "Eq(0, -\\overline{v} + pi*v(c_2) + (1 - pi)*v(c_1))"
      ]
     },
     "metadata": {},
     "output_type": "display_data"
    }
   ],
   "source": [
    "display(Lc_1)\n",
    "display(Lc_2)\n",
    "display(Llam)"
   ]
  },
  {
   "cell_type": "markdown",
   "metadata": {},
   "source": [
    "We solve for $\\frac{d}{dc_1}v(c_1)$ and $\\frac{d}{dc_2}v(c_2)$"
   ]
  },
  {
   "cell_type": "code",
   "execution_count": 20,
   "metadata": {},
   "outputs": [
    {
     "data": {
      "text/latex": [
       "$\\displaystyle \\frac{d}{d c_{1}} v{\\left(c_{1} \\right)} = \\frac{1}{\\lambda}$"
      ],
      "text/plain": [
       "Eq(Derivative(v(c_1), c_1), 1/lambda)"
      ]
     },
     "metadata": {},
     "output_type": "display_data"
    },
    {
     "data": {
      "text/latex": [
       "$\\displaystyle \\frac{d}{d c_{2}} v{\\left(c_{2} \\right)} = \\frac{1}{\\lambda}$"
      ],
      "text/plain": [
       "Eq(Derivative(v(c_2), c_2), 1/lambda)"
      ]
     },
     "metadata": {},
     "output_type": "display_data"
    }
   ],
   "source": [
    "# Solve the system of equations\n",
    "solution = solve_equations(Lc_1, Lc_2, Llam, v_diff_c1, v_diff_c2)\n",
    "\n",
    "# check for a solution\n",
    "if isinstance(solution, dict):\n",
    "    for var, sol in solution.items():\n",
    "        eq = sm.Eq(var, sol)\n",
    "        display(eq)\n",
    "elif isinstance(solution, list) and solution:\n",
    "    for sol in solution:\n",
    "        display(sol)\n",
    "else:\n",
    "    print(\"No solutions found.\")"
   ]
  },
  {
   "cell_type": "markdown",
   "metadata": {},
   "source": [
    "Meaning that optimal contract includes that $c_1 = c_2$. Since $c_1 = M - \\Gamma$ we can write $c_2 = M - \\Gamma - L + K \\Leftrightarrow c_2 = c_1 - L + K \\Leftrightarrow L = c_1 - c_2 + K$ which means that $L = K$.\n",
    "This means that the ensurance payout needs to be as large as the loss the agent experiences"
   ]
  },
  {
   "cell_type": "markdown",
   "metadata": {},
   "source": [
    "## Numerical solution"
   ]
  },
  {
   "cell_type": "markdown",
   "metadata": {},
   "source": [
    "You can always solve a model numerically. \n",
    "\n",
    "Define first the set of parameters you need. \n",
    "\n",
    "Then choose one of the optimization algorithms that we have gone through in the lectures based on what you think is most fitting for your model.\n",
    "\n",
    "Are there any problems with convergence? Does the model converge for all starting values? Make a lot of testing to figure these things out. "
   ]
  },
  {
   "cell_type": "code",
   "execution_count": 21,
   "metadata": {},
   "outputs": [
    {
     "name": "stdout",
     "output_type": "stream",
     "text": [
      "Optimal values:\n",
      "For pi = 0.05, K: 2.10, gamma: 0.11\n",
      "For pi = 0.14, K: 5.00, gamma: 0.71\n",
      "For pi = 0.23, K: 5.00, gamma: 1.16\n",
      "For pi = 0.32, K: 5.00, gamma: 1.62\n",
      "For pi = 0.41, K: 5.00, gamma: 2.07\n",
      "For pi = 0.50, K: 5.00, gamma: 2.52\n",
      "For pi = 0.59, K: 5.00, gamma: 2.97\n",
      "For pi = 0.68, K: 5.00, gamma: 3.42\n",
      "For pi = 0.77, K: 5.00, gamma: 3.86\n",
      "For pi = 0.86, K: 5.00, gamma: 4.31\n",
      "For pi = 0.95, K: 5.01, gamma: 4.76\n"
     ]
    }
   ],
   "source": [
    "def parameter(K, gamma, pi):\n",
    "    M = 50\n",
    "    L = 5\n",
    "    rho = 0.3\n",
    "\n",
    "    # Compute consumptions\n",
    "    c1 = M - gamma\n",
    "    c2 = M - gamma - L + K\n",
    "\n",
    "    return M, L, pi, rho, c1, c2\n",
    "\n",
    "def principal_problem(x, pi):\n",
    "    K, gamma = x\n",
    "    M, L, pi, rho, c1, c2 = parameter(K, gamma, pi)\n",
    "    return -(M - pi * L - (1 - pi) * c1 - pi * c2)\n",
    "\n",
    "def agent_utility(c, rho):\n",
    "    return c**(1 - rho) / (1 - rho)\n",
    "\n",
    "def constraint(x, pi):\n",
    "    K, gamma = x\n",
    "    M, L, pi, rho, c1, c2 = parameter(K, gamma, pi)\n",
    "    return pi * agent_utility(c2, rho) + (1 - pi) * agent_utility(c1, rho) - (pi * agent_utility(M - L, rho) + (1 - pi) * agent_utility(M, rho))\n",
    "\n",
    "def optimize_for_pi(pi_value):\n",
    "    initial_guess_K_gamma = [2, 2]  # Initial guess for K and gamma\n",
    "\n",
    "    # Define bounds for K and gamma\n",
    "    bounds = [(0, None), (0, None)]  # K >= 0, gamma >= 0\n",
    "\n",
    "    # Perform optimization with constraint\n",
    "    result = optimize.minimize(principal_problem, initial_guess_K_gamma, args=(pi_value,),\n",
    "                               method='SLSQP', bounds=bounds,\n",
    "                               constraints={'type': 'ineq', 'fun': constraint, 'args': (pi_value,)},\n",
    "                               options={'maxiter': 1000})\n",
    "\n",
    "    K, gamma = result.x\n",
    "    return K, gamma, result.success\n",
    "\n",
    "# Define a range of possible values for pi\n",
    "pi_values = np.linspace(0.05, 0.95, 11)  # e.g., 11 values from 0 to 1\n",
    "\n",
    "# Loop over all pi values and store results\n",
    "results = []\n",
    "for pi_val in pi_values:\n",
    "    K, gamma, success = optimize_for_pi(pi_val)\n",
    "    if success:\n",
    "        results.append((pi_val, K, gamma))\n",
    "    else:\n",
    "        results.append((pi_val, None, None))\n",
    "\n",
    "pi_values_t = []\n",
    "gamma_values_t = []\n",
    "K_values_t = []\n",
    "\n",
    "for res in results:\n",
    "    pi_val, K, gamma = res\n",
    "    if K is not None and gamma is not None:\n",
    "        pi_values_t.append(pi_val)\n",
    "        gamma_values_t.append(gamma)\n",
    "        K_values_t.append(K)\n",
    "\n",
    "# Print the results\n",
    "print(\"Optimal values:\")\n",
    "for res in results:\n",
    "    pi_val, K, gamma = res\n",
    "    if K is not None and gamma is not None:\n",
    "        print(f\"For pi = {pi_val:.2f}, K: {K:.2f}, gamma: {gamma:.2f}\")\n",
    "    else:\n",
    "        print(f\"For pi = {pi_val:.2f}, optimization did not converge.\")\n",
    "\n",
    "#print(results)\n"
   ]
  },
  {
   "cell_type": "markdown",
   "metadata": {},
   "source": [
    "From solving our model we can again see that K = L. We can also see that the larger the chance for an accident is (defined by pi), the bigger the insurance prices must be. "
   ]
  },
  {
   "cell_type": "code",
   "execution_count": 22,
   "metadata": {},
   "outputs": [
    {
     "data": {
      "image/png": "[encoded data removed]",
      "text/plain": [
       "<Figure size 1000x400 with 2 Axes>"
      ]
     },
     "metadata": {},
     "output_type": "display_data"
    }
   ],
   "source": [
    "fig = plt.figure(figsize=(10,4))\n",
    "\n",
    "# First subplot for gamma vs pi\n",
    "ax = fig.add_subplot(1,2,1)\n",
    "ax.plot(pi_values_t, gamma_values_t, linestyle='-')  # Make sure you have these lists ready from your results\n",
    "ax.set_xlabel('$\\pi$')\n",
    "ax.set_ylabel('$\\Gamma$')\n",
    "ax.set_title('Different $\\gamma$ for different $\\pi$')\n",
    "\n",
    "# Second subplot for K vs pi\n",
    "ax2 = fig.add_subplot(1,2,2)\n",
    "ax2.plot(pi_values_t, K_values_t, linestyle='-')  # Assuming you have these lists from your optimization results\n",
    "ax2.scatter(0.5, 5, marker='s', color='black', label='$L$')  # Example, adjust 'L' as needed\n",
    "ax2.set_xlabel('$\\pi$')\n",
    "ax2.set_ylabel('$K$')\n",
    "ax2.set_title('Different K for different $\\pi$')\n",
    "ax2.set_ylim([0, 10])\n",
    "\n",
    "# Include legend if necessary\n",
    "ax2.legend()\n",
    "\n",
    "fig.tight_layout(pad=1.0)\n",
    "plt.show()"
   ]
  },
  {
   "cell_type": "markdown",
   "metadata": {},
   "source": [
    "# Further analysis"
   ]
  },
  {
   "cell_type": "markdown",
   "metadata": {},
   "source": [
    "Make detailed vizualizations of how your model changes with parameter values. \n",
    "\n",
    "Try to make an extension of the model. "
   ]
  },
  {
   "cell_type": "markdown",
   "metadata": {},
   "source": [
    "We now extend our modul to account for the fact that the insurance company cannot observe whether or not the agent is careful or not. The insurance company would ideally like to formulate one type of contract to a careless agent, and one type of contract to a careful agent. \n",
    "\n",
    "But how does the insurance company know, that the careful contract which has a lower price than the careless one, is gonna be upheld by the supposed careful agent? \n",
    "\n",
    "They do by structuring the contract, so that the value of being a careful agent subsides the cost of being a careful agent. \n",
    "\n",
    "$$\n",
    "\\max_{c_1,c_2} M - \\pi \\cdot L - (1-\\pi)c_1 - \\pi c_2 \\\\\n",
    "s.t. \\\\\n",
    "\\pi \\cdot v(c_2) + (1-\\pi) \\cdot v(c_1) - e \\geq \\overline{v} \\\\\n",
    "\n",
    "(\\pi_s - \\pi) \\cdot (v(c_1) - v(c_2)) \\geq e \n",
    "$$\n",
    "\n",
    "where $\\pi_s$ defined the probability of an accident happening if you are careless, and e being the cost of being careful. \n",
    "\n"
   ]
  },
  {
   "cell_type": "code",
   "execution_count": 23,
   "metadata": {},
   "outputs": [
    {
     "name": "stdout",
     "output_type": "stream",
     "text": [
      "Optimal values:\n",
      "For e = 0.01, K: 4.92, gamma: 0.47\n",
      "For e = 0.01, K: 4.89, gamma: 0.45\n",
      "For e = 0.02, K: 4.87, gamma: 0.44\n",
      "For e = 0.02, K: 4.84, gamma: 0.43\n",
      "For e = 0.02, K: 4.82, gamma: 0.42\n",
      "For e = 0.03, K: 4.79, gamma: 0.40\n",
      "For e = 0.03, K: 4.77, gamma: 0.39\n",
      "For e = 0.03, K: 4.74, gamma: 0.38\n",
      "For e = 0.03, K: 4.72, gamma: 0.37\n",
      "For e = 0.04, K: 4.69, gamma: 0.35\n",
      "For e = 0.04, K: 4.67, gamma: 0.34\n",
      "For e = 0.04, K: 4.64, gamma: 0.33\n",
      "For e = 0.05, K: 4.62, gamma: 0.32\n",
      "For e = 0.05, K: 4.59, gamma: 0.30\n",
      "For e = 0.05, K: 4.57, gamma: 0.29\n",
      "For e = 0.06, K: 4.54, gamma: 0.28\n",
      "For e = 0.06, K: 4.52, gamma: 0.27\n",
      "For e = 0.06, K: 4.49, gamma: 0.25\n",
      "For e = 0.07, K: 4.47, gamma: 0.24\n",
      "For e = 0.07, K: 4.44, gamma: 0.23\n",
      "For e = 0.07, K: 4.42, gamma: 0.22\n",
      "For e = 0.08, K: 4.39, gamma: 0.20\n",
      "For e = 0.08, K: 4.37, gamma: 0.19\n",
      "For e = 0.08, K: 4.34, gamma: 0.18\n",
      "For e = 0.08, K: 4.32, gamma: 0.17\n",
      "For e = 0.09, K: 4.29, gamma: 0.15\n",
      "For e = 0.09, K: 4.27, gamma: 0.14\n",
      "For e = 0.09, K: 2.97, gamma: 0.00\n",
      "For e = 0.10, K: 3.07, gamma: 0.00\n",
      "For e = 0.10, K: 3.17, gamma: 0.00\n"
     ]
    }
   ],
   "source": [
    "def parameter(K, gamma, e):\n",
    "    M = 50\n",
    "    L = 5\n",
    "    rho = 0.3\n",
    "    pi = 0.1\n",
    "    pi_s = 0.5\n",
    "\n",
    "    # Compute consumptions\n",
    "    c1 = M - gamma\n",
    "    c2 = M - gamma - L + K\n",
    "\n",
    "    return M, L, e, rho, c1, c2, pi, pi_s\n",
    "\n",
    "def principal_problem(x, e):\n",
    "    K, gamma = x\n",
    "    M, L, e, rho, c1, c2, pi, pi_s = parameter(K, gamma, e)\n",
    "    return -(M - pi * L - (1 - pi) * c1 - pi * c2)\n",
    "\n",
    "def agent_utility(c, rho):\n",
    "    return c**(1 - rho) / (1 - rho)\n",
    "\n",
    "def constraint(x, e):\n",
    "    K, gamma = x\n",
    "    M, L, e, rho, c1, c2, pi, pi_s = parameter(K, gamma, e)\n",
    "    return pi * agent_utility(c2, rho) + (1 - pi) * agent_utility(c1, rho) - e - (pi * agent_utility(M - L, rho) + (1 - pi) * agent_utility(M, rho))\n",
    "\n",
    "def constraint_ic(x, e):\n",
    "    K, gamma = x\n",
    "    M, L, e, rho, c1, c2, pi, pi_s = parameter(K, gamma, e)\n",
    "    return (pi_s - pi)*(agent_utility(c1, rho)-agent_utility(c2, rho)) - e\n",
    "\n",
    "def optimize_for_e(e_value):\n",
    "    initial_guess_K_gamma = [2, 2]  # Initial guess for K and gamma\n",
    "\n",
    "    # Define bounds for K and gamma\n",
    "    bounds = [(0, None), (0, None)]  # K >= 0, gamma >= 0\n",
    "\n",
    "    # Perform optimization with constraint\n",
    "    result = optimize.minimize(principal_problem, initial_guess_K_gamma, args=(e_value,),\n",
    "                               method='SLSQP', bounds=bounds,\n",
    "                               constraints=[{'type': 'ineq', 'fun': constraint, 'args': (e_value,)},{'type': 'ineq', 'fun': constraint_ic, 'args': (e_value,)}],\n",
    "                               options={'maxiter': 1000})\n",
    "\n",
    "    K, gamma = result.x\n",
    "    return K, gamma, result.success\n",
    "\n",
    "# Define a range of possible values for e\n",
    "e_values = np.linspace(0.01, 0.1, 30)  # e.g., 11 values from 0 to 1\n",
    "\n",
    "# Loop over all e values and store results\n",
    "results = []\n",
    "for e_val in e_values:\n",
    "    K, gamma, success = optimize_for_e(e_val)\n",
    "    if success:\n",
    "        results.append((e_val, K, gamma))\n",
    "    else:\n",
    "        results.append((e_val, None, None))\n",
    "\n",
    "e_values_t = []\n",
    "gamma_values_t = []\n",
    "K_values_t = []\n",
    "\n",
    "for res in results:\n",
    "    e_val, K, gamma = res\n",
    "    if K is not None and gamma is not None:\n",
    "        e_values_t.append(e_val)\n",
    "        gamma_values_t.append(gamma)\n",
    "        K_values_t.append(K)\n",
    "\n",
    "# Print the results\n",
    "print(\"Optimal values:\")\n",
    "for res in results:\n",
    "    e_val, K, gamma = res\n",
    "    if K is not None and gamma is not None:\n",
    "        print(f\"For e = {e_val:.2f}, K: {K:.2f}, gamma: {gamma:.2f}\")\n",
    "    else:\n",
    "        print(f\"For e = {e_val:.2f}, optimization did not converge.\")\n",
    "\n",
    "#print(results)\n"
   ]
  },
  {
   "cell_type": "markdown",
   "metadata": {},
   "source": [
    "Now we see that the price of the insurance is lower than before when the contract forces the agent to be careful. We also see that the bigger the cost of being careful is, the lower the price of the insurance has to be. "
   ]
  },
  {
   "cell_type": "code",
   "execution_count": 24,
   "metadata": {},
   "outputs": [
    {
     "name": "stdout",
     "output_type": "stream",
     "text": [
      "Optimal values for skødesløs is :\n",
      "K_s: 10.00\n",
      "gamma_s: 3.22\n",
      "e_s: 1.00\n",
      "Optimal values for forsigtig is :\n",
      "K_f: 104.91\n",
      "gamma_f: 19.78\n",
      "e_f: 1.00\n"
     ]
    }
   ],
   "source": [
    "# model med selvrisiko \n",
    "\n",
    "def parameter(K, gamma, e):\n",
    "    M = 50\n",
    "    L = 10\n",
    "    rho = 0.95\n",
    "    pi_s = 0.3\n",
    "    pi_f = 0.1\n",
    "    #e = 1\n",
    "\n",
    "    # Compute consumptions\n",
    "    c1 = M - gamma\n",
    "    c2 = M - gamma - L + K\n",
    "\n",
    "    #return M, L, rho, c1, c2, e, pi_s, pi_f\n",
    "    return M, L, rho, c1, c2, pi_s, pi_f\n",
    "\n",
    "def principal_problem_s(x):\n",
    "    K, gamma, e = x\n",
    "    #M, L, rho, c1, c2, pi_s, pi_f, e = parameter(K, gamma)\n",
    "    M, L, rho, c1, c2, pi_s, pi_f, = parameter(K, gamma, e)\n",
    "    return -(M - pi_s * L - (1 - pi_s) * c1 - pi_s * c2)\n",
    "\n",
    "def principal_problem_f(x):\n",
    "    K, gamma, e = x\n",
    "    #M, L, rho, c1, c2, pi_s, pi_f, e = parameter(K, gamma)\n",
    "    M, L, rho, c1, c2, pi_s, pi_f, = parameter(K, gamma, e)\n",
    "    return -(M - pi_f * L - (1 - pi_f) * c1 - pi_f * c2)\n",
    "\n",
    "\n",
    "def agent_utility(c, rho):\n",
    "    return c**(1 - rho) / (1 - rho)\n",
    "\n",
    "def constraint_s(x):\n",
    "    K, gamma, e = x\n",
    "    # M, L, rho, c1, c2, pi_s, pi_f, e = parameter(K, gamma)\n",
    "    M, L, rho, c1, c2, pi_s, pi_f, = parameter(K, gamma, e)\n",
    "    return pi_s * agent_utility(c2, rho) + (1 - pi_s) * agent_utility(c1, rho) - (pi_s * agent_utility(M - L, rho) + (1 - pi_s) * agent_utility(M, rho))\n",
    "\n",
    "def constraint_f(x):\n",
    "    K, gamma, e = x\n",
    "    # M, L, rho, c1, c2, pi_s, pi_f, e = parameter(K, gamma)\n",
    "    M, L, rho, c1, c2, pi_s, pi_f, = parameter(K, gamma, e)\n",
    "    return pi_f * agent_utility(c2, rho) + (1 - pi_f) * agent_utility(c1, rho) - ((pi_s - pi_f)*(agent_utility(c1, rho)-agent_utility(c2, rho))) - (pi_s * agent_utility(M - L, rho) + (1 - pi_s) * agent_utility(M, rho))\n",
    "\n",
    "#def constraint_ic(x):\n",
    "#    K, gamma, e = x\n",
    "#    #M, L, rho, c1, c2, pi_s, pi_f, e = parameter(K, gamma)\n",
    "#    M, L, rho, c1, c2, pi_s, pi_f, = parameter(K, gamma,e)\n",
    "#    return (pi_s - pi_f)*(agent_utility(c1, rho)-agent_utility(c2, rho)) \n",
    "    \n",
    "\n",
    "initial_guess_K_gamma = [1, 1, 1]  # Initial guess for K and gamma\n",
    "\n",
    "# Define bounds for K and gamma\n",
    "bounds = [(0, None), (0, None), (0,None)]  # K >= 0, gamma >= 0\n",
    "\n",
    "# Perform optimization with constraint\n",
    "results_s = optimize.minimize(principal_problem_s, initial_guess_K_gamma, \n",
    "                           method='SLSQP', bounds=bounds, \n",
    "                           constraints=[{'type': 'ineq', 'fun': constraint_s}], options={'maxiter': 1000})\n",
    "\n",
    "# Perform optimization with constraint\n",
    "results_f = optimize.minimize(principal_problem_f, initial_guess_K_gamma, \n",
    "                           method='SLSQP', bounds=bounds, \n",
    "                           constraints=[{'type': 'ineq', 'fun': constraint_f}], options={'maxiter': 1000})\n",
    "\n",
    "\n",
    "K_s, gamma_s, e_s = results_s['x']\n",
    "print(\"Optimal values for skødesløs is :\")\n",
    "print(f\"K_s: {K_s:.2f}\")\n",
    "print(f\"gamma_s: {gamma_s:.2f}\")\n",
    "print(f\"e_s: {e_s:.2f}\")\n",
    "\n",
    "K_f, gamma_f, e_f = results_f['x']\n",
    "print(\"Optimal values for forsigtig is :\")\n",
    "print(f\"K_f: {K_f:.2f}\")\n",
    "print(f\"gamma_f: {gamma_f:.2f}\")\n",
    "print(f\"e_f: {e_f:.2f}\")"
   ]
  },
  {
   "cell_type": "code",
   "execution_count": 25,
   "metadata": {},
   "outputs": [
    {
     "name": "stdout",
     "output_type": "stream",
     "text": [
      "Optimal values for skødesløs is :\n",
      "K_s: 20.00\n",
      "gamma_s: 7.05\n",
      "Optimal values for forsigtig is :\n",
      "K_f: 107.17\n",
      "gamma_f: 22.25\n"
     ]
    }
   ],
   "source": [
    "# model med selvrisiko hvor e er skrivet ind som ligningen \n",
    "\n",
    "def parameter(K, gamma):\n",
    "    M = 50\n",
    "    L = 20\n",
    "    rho = 0.95\n",
    "    pi_s = 0.3\n",
    "    pi_f = 0.1\n",
    "\n",
    "    # Compute consumptions\n",
    "    c1 = M - gamma\n",
    "    c2 = M - gamma - L + K\n",
    "\n",
    "    #return M, L, rho, c1, c2, e, pi_s, pi_f\n",
    "    return M, L, rho, c1, c2, pi_s, pi_f\n",
    "\n",
    "def principal_problem_s(x):\n",
    "    K, gamma = x\n",
    "    #M, L, rho, c1, c2, pi_s, pi_f, e = parameter(K, gamma)\n",
    "    M, L, rho, c1, c2, pi_s, pi_f, = parameter(K, gamma)\n",
    "    return -(M - pi_s * L - (1 - pi_s) * c1 - pi_s * c2)\n",
    "\n",
    "def principal_problem_f(x):\n",
    "    K, gamma = x\n",
    "    M, L, rho, c1, c2, pi_s, pi_f = parameter(K, gamma)\n",
    "    return -(M - pi_f * L - (1 - pi_f) * c1 - pi_f * c2)\n",
    "\n",
    "\n",
    "def agent_utility(c, rho):\n",
    "    return c**(1 - rho) / (1 - rho)\n",
    "\n",
    "def constraint_s(x):\n",
    "    K, gamma = x\n",
    "    # M, L, rho, c1, c2, pi_s, pi_f, e = parameter(K, gamma)\n",
    "    M, L, rho, c1, c2, pi_s, pi_f, = parameter(K, gamma)\n",
    "    return pi_s * agent_utility(c2, rho) + (1 - pi_s) * agent_utility(c1, rho) - (pi_s * agent_utility(M - L, rho) + (1 - pi_s) * agent_utility(M, rho))\n",
    "\n",
    "def constraint_f(x):\n",
    "    K, gamma = x\n",
    "    # M, L, rho, c1, c2, pi_s, pi_f, e = parameter(K, gamma)\n",
    "    M, L, rho, c1, c2, pi_s, pi_f, = parameter(K, gamma)\n",
    "    return pi_f * agent_utility(c2, rho) + (1 - pi_f) * agent_utility(c1, rho) - ((pi_s - pi_f)*(agent_utility(c1, rho)-agent_utility(c2, rho))) - (pi_s * agent_utility(M - L, rho) + (1 - pi_s) * agent_utility(M, rho)) #- e\n",
    "\n",
    "#def constraint_ic(x):\n",
    "#    K, gamma = x\n",
    "    #M, L, rho, c1, c2, pi_s, pi_f, e = parameter(K, gamma)\n",
    "#    M, L, rho, c1, c2, pi_s, pi_f, = parameter(K, gamma)\n",
    "#   return (pi_s - pi_f)*(agent_utility(c1, rho)-agent_utility(c2, rho))\n",
    "    \n",
    "\n",
    "initial_guess_K_gamma = [1, 1]  # Initial guess for K and gamma\n",
    "\n",
    "# Define bounds for K and gamma\n",
    "bounds = [(0, None), (0, None)]  # K >= 0, gamma >= 0\n",
    "\n",
    "# Perform optimization with constraint\n",
    "results_s = optimize.minimize(principal_problem_s, initial_guess_K_gamma, \n",
    "                           method='SLSQP', bounds=bounds, \n",
    "                           constraints=[{'type': 'ineq', 'fun': constraint_s}], options={'maxiter': 1000})\n",
    "\n",
    "# Perform optimization with constraint\n",
    "results_f = optimize.minimize(principal_problem_f, initial_guess_K_gamma, \n",
    "                           method='SLSQP', bounds=bounds, \n",
    "                           constraints=[{'type': 'ineq', 'fun': constraint_f}], options={'maxiter': 1000})\n",
    "\n",
    "\n",
    "K_s, gamma_s= results_s['x']\n",
    "print(\"Optimal values for skødesløs is :\")\n",
    "print(f\"K_s: {K_s:.2f}\")\n",
    "print(f\"gamma_s: {gamma_s:.2f}\")\n",
    "#print(f\"e_s: {e_s:.2f}\")\n",
    "\n",
    "K_f, gamma_f = results_f['x']\n",
    "print(\"Optimal values for forsigtig is :\")\n",
    "print(f\"K_f: {K_f:.2f}\")\n",
    "print(f\"gamma_f: {gamma_f:.2f}\")\n",
    "#print(f\"e_f: {e_f:.2f}\")"
   ]
  },
  {
   "cell_type": "code",
   "execution_count": 26,
   "metadata": {},
   "outputs": [
    {
     "ename": "SyntaxError",
     "evalue": "invalid syntax (138412524.py, line 1)",
     "output_type": "error",
     "traceback": [
      "\u001b[0;36m  Cell \u001b[0;32mIn[26], line 1\u001b[0;36m\u001b[0m\n\u001b[0;31m    første model\u001b[0m\n\u001b[0m           ^\u001b[0m\n\u001b[0;31mSyntaxError\u001b[0m\u001b[0;31m:\u001b[0m invalid syntax\n"
     ]
    }
   ],
   "source": [
    "første model\n",
    "def parameter(K, gamma):\n",
    "    M = 50\n",
    "    L = 5\n",
    "    pi = 0.2\n",
    "    pi_f = 0.1\n",
    "    rho = 0.95\n",
    "\n",
    "    # Compute consumptions\n",
    "    c1 = M - gamma\n",
    "    c2 = M - gamma - L + K\n",
    "\n",
    "    return M, L, pi, pi_f rho, c1, c2\n",
    "\n",
    "def principal_problem(x):\n",
    "    K, gamma = x\n",
    "    M, L, pi, rho, c1, c2 = parameter(K, gamma)\n",
    "    return -(M - pi * L - (1-pi) * c1 - pi * c2)\n",
    "\n",
    "def agent_utility(c, rho):\n",
    "    return c**(1 - rho) / (1 - rho)\n",
    "\n",
    "def constraint(x):\n",
    "    K, gamma = x\n",
    "    M, L, pi, rho, c1, c2 = parameter(K, gamma)\n",
    "    return pi * agent_utility(c2, rho) + (1-pi) * agent_utility(c1, rho) -(pi * agent_utility(M - L, rho) + (1 - pi) * agent_utility(M, rho))\n",
    "\n",
    "initial_guess_K_gamma = [2, 2]  # Initial guess for K and gamma\n",
    "\n",
    "# Define bounds for K and gamma\n",
    "bounds = [(0, None), (0, None)]  # K >= 0, gamma >= 0\n",
    "\n",
    "# Perform optimization with constraint\n",
    "result = optimize.minimize(principal_problem, initial_guess_K_gamma, method='SLSQP', bounds=bounds, constraints={'type': 'ineq', 'fun': constraint}, options={'maxiter': 1000})\n",
    "\n",
    "\n",
    "K, gamma = result['x']\n",
    "print(\"Optimal values:\")\n",
    "print(f\"K: {K:.2f}\")\n",
    "print(f\"gamma: {gamma:.2f}\")"
   ]
  },
  {
   "cell_type": "code",
   "execution_count": null,
   "metadata": {},
   "outputs": [
    {
     "ename": "TypeError",
     "evalue": "parameter() missing 1 required positional argument: 'e'",
     "output_type": "error",
     "traceback": [
      "\u001b[1;31m---------------------------------------------------------------------------\u001b[0m",
      "\u001b[1;31mTypeError\u001b[0m                                 Traceback (most recent call last)",
      "Cell \u001b[1;32mIn[128], line 49\u001b[0m\n\u001b[0;32m     47\u001b[0m results \u001b[38;5;241m=\u001b[39m []\n\u001b[0;32m     48\u001b[0m \u001b[38;5;28;01mfor\u001b[39;00m e_val \u001b[38;5;129;01min\u001b[39;00m e_values:\n\u001b[1;32m---> 49\u001b[0m     K, gamma, success \u001b[38;5;241m=\u001b[39m optimize_for_pi(e_val)\n\u001b[0;32m     50\u001b[0m     \u001b[38;5;28;01mif\u001b[39;00m success:\n\u001b[0;32m     51\u001b[0m         results\u001b[38;5;241m.\u001b[39mappend((e_val, K, gamma))\n",
      "Cell \u001b[1;32mIn[128], line 35\u001b[0m, in \u001b[0;36moptimize_for_pi\u001b[1;34m(e_value)\u001b[0m\n\u001b[0;32m     32\u001b[0m bounds \u001b[38;5;241m=\u001b[39m [(\u001b[38;5;241m0\u001b[39m, \u001b[38;5;28;01mNone\u001b[39;00m), (\u001b[38;5;241m0\u001b[39m, \u001b[38;5;28;01mNone\u001b[39;00m)]  \u001b[38;5;66;03m# K >= 0, gamma >= 0\u001b[39;00m\n\u001b[0;32m     34\u001b[0m \u001b[38;5;66;03m# Perform optimization with constraint\u001b[39;00m\n\u001b[1;32m---> 35\u001b[0m result \u001b[38;5;241m=\u001b[39m optimize\u001b[38;5;241m.\u001b[39mminimize(principal_problem, initial_guess_K_gamma, args\u001b[38;5;241m=\u001b[39m(e_value,),\n\u001b[0;32m     36\u001b[0m                            method\u001b[38;5;241m=\u001b[39m\u001b[38;5;124m'\u001b[39m\u001b[38;5;124mSLSQP\u001b[39m\u001b[38;5;124m'\u001b[39m, bounds\u001b[38;5;241m=\u001b[39mbounds,\n\u001b[0;32m     37\u001b[0m                            constraints\u001b[38;5;241m=\u001b[39m{\u001b[38;5;124m'\u001b[39m\u001b[38;5;124mtype\u001b[39m\u001b[38;5;124m'\u001b[39m: \u001b[38;5;124m'\u001b[39m\u001b[38;5;124mineq\u001b[39m\u001b[38;5;124m'\u001b[39m, \u001b[38;5;124m'\u001b[39m\u001b[38;5;124mfun\u001b[39m\u001b[38;5;124m'\u001b[39m: constraint, \u001b[38;5;124m'\u001b[39m\u001b[38;5;124margs\u001b[39m\u001b[38;5;124m'\u001b[39m: (e_value,)},\n\u001b[0;32m     38\u001b[0m                            options\u001b[38;5;241m=\u001b[39m{\u001b[38;5;124m'\u001b[39m\u001b[38;5;124mmaxiter\u001b[39m\u001b[38;5;124m'\u001b[39m: \u001b[38;5;241m1000\u001b[39m})\n\u001b[0;32m     40\u001b[0m K, gamma \u001b[38;5;241m=\u001b[39m result\u001b[38;5;241m.\u001b[39mx\n\u001b[0;32m     41\u001b[0m \u001b[38;5;28;01mreturn\u001b[39;00m K, gamma, result\u001b[38;5;241m.\u001b[39msuccess\n",
      "File \u001b[1;32mc:\\Users\\marcu\\anaconda3\\Lib\\site-packages\\scipy\\optimize\\_minimize.py:719\u001b[0m, in \u001b[0;36mminimize\u001b[1;34m(fun, x0, args, method, jac, hess, hessp, bounds, constraints, tol, callback, options)\u001b[0m\n\u001b[0;32m    716\u001b[0m     res \u001b[38;5;241m=\u001b[39m _minimize_cobyla(fun, x0, args, constraints, callback\u001b[38;5;241m=\u001b[39mcallback,\n\u001b[0;32m    717\u001b[0m                            bounds\u001b[38;5;241m=\u001b[39mbounds, \u001b[38;5;241m*\u001b[39m\u001b[38;5;241m*\u001b[39moptions)\n\u001b[0;32m    718\u001b[0m \u001b[38;5;28;01melif\u001b[39;00m meth \u001b[38;5;241m==\u001b[39m \u001b[38;5;124m'\u001b[39m\u001b[38;5;124mslsqp\u001b[39m\u001b[38;5;124m'\u001b[39m:\n\u001b[1;32m--> 719\u001b[0m     res \u001b[38;5;241m=\u001b[39m _minimize_slsqp(fun, x0, args, jac, bounds,\n\u001b[0;32m    720\u001b[0m                           constraints, callback\u001b[38;5;241m=\u001b[39mcallback, \u001b[38;5;241m*\u001b[39m\u001b[38;5;241m*\u001b[39moptions)\n\u001b[0;32m    721\u001b[0m \u001b[38;5;28;01melif\u001b[39;00m meth \u001b[38;5;241m==\u001b[39m \u001b[38;5;124m'\u001b[39m\u001b[38;5;124mtrust-constr\u001b[39m\u001b[38;5;124m'\u001b[39m:\n\u001b[0;32m    722\u001b[0m     res \u001b[38;5;241m=\u001b[39m _minimize_trustregion_constr(fun, x0, args, jac, hess, hessp,\n\u001b[0;32m    723\u001b[0m                                        bounds, constraints,\n\u001b[0;32m    724\u001b[0m                                        callback\u001b[38;5;241m=\u001b[39mcallback, \u001b[38;5;241m*\u001b[39m\u001b[38;5;241m*\u001b[39moptions)\n",
      "File \u001b[1;32mc:\\Users\\marcu\\anaconda3\\Lib\\site-packages\\scipy\\optimize\\_slsqp_py.py:329\u001b[0m, in \u001b[0;36m_minimize_slsqp\u001b[1;34m(func, x0, args, jac, bounds, constraints, maxiter, ftol, iprint, disp, eps, callback, finite_diff_rel_step, **unknown_options)\u001b[0m\n\u001b[0;32m    325\u001b[0m \u001b[38;5;66;03m# Set the parameters that SLSQP will need\u001b[39;00m\n\u001b[0;32m    326\u001b[0m \u001b[38;5;66;03m# meq, mieq: number of equality and inequality constraints\u001b[39;00m\n\u001b[0;32m    327\u001b[0m meq \u001b[38;5;241m=\u001b[39m \u001b[38;5;28msum\u001b[39m(\u001b[38;5;28mmap\u001b[39m(\u001b[38;5;28mlen\u001b[39m, [atleast_1d(c[\u001b[38;5;124m'\u001b[39m\u001b[38;5;124mfun\u001b[39m\u001b[38;5;124m'\u001b[39m](x, \u001b[38;5;241m*\u001b[39mc[\u001b[38;5;124m'\u001b[39m\u001b[38;5;124margs\u001b[39m\u001b[38;5;124m'\u001b[39m]))\n\u001b[0;32m    328\u001b[0m           \u001b[38;5;28;01mfor\u001b[39;00m c \u001b[38;5;129;01min\u001b[39;00m cons[\u001b[38;5;124m'\u001b[39m\u001b[38;5;124meq\u001b[39m\u001b[38;5;124m'\u001b[39m]]))\n\u001b[1;32m--> 329\u001b[0m mieq \u001b[38;5;241m=\u001b[39m \u001b[38;5;28msum\u001b[39m(\u001b[38;5;28mmap\u001b[39m(\u001b[38;5;28mlen\u001b[39m, [atleast_1d(c[\u001b[38;5;124m'\u001b[39m\u001b[38;5;124mfun\u001b[39m\u001b[38;5;124m'\u001b[39m](x, \u001b[38;5;241m*\u001b[39mc[\u001b[38;5;124m'\u001b[39m\u001b[38;5;124margs\u001b[39m\u001b[38;5;124m'\u001b[39m]))\n\u001b[0;32m    330\u001b[0m            \u001b[38;5;28;01mfor\u001b[39;00m c \u001b[38;5;129;01min\u001b[39;00m cons[\u001b[38;5;124m'\u001b[39m\u001b[38;5;124mineq\u001b[39m\u001b[38;5;124m'\u001b[39m]]))\n\u001b[0;32m    331\u001b[0m \u001b[38;5;66;03m# m = The total number of constraints\u001b[39;00m\n\u001b[0;32m    332\u001b[0m m \u001b[38;5;241m=\u001b[39m meq \u001b[38;5;241m+\u001b[39m mieq\n",
      "File \u001b[1;32mc:\\Users\\marcu\\anaconda3\\Lib\\site-packages\\scipy\\optimize\\_slsqp_py.py:329\u001b[0m, in \u001b[0;36m<listcomp>\u001b[1;34m(.0)\u001b[0m\n\u001b[0;32m    325\u001b[0m \u001b[38;5;66;03m# Set the parameters that SLSQP will need\u001b[39;00m\n\u001b[0;32m    326\u001b[0m \u001b[38;5;66;03m# meq, mieq: number of equality and inequality constraints\u001b[39;00m\n\u001b[0;32m    327\u001b[0m meq \u001b[38;5;241m=\u001b[39m \u001b[38;5;28msum\u001b[39m(\u001b[38;5;28mmap\u001b[39m(\u001b[38;5;28mlen\u001b[39m, [atleast_1d(c[\u001b[38;5;124m'\u001b[39m\u001b[38;5;124mfun\u001b[39m\u001b[38;5;124m'\u001b[39m](x, \u001b[38;5;241m*\u001b[39mc[\u001b[38;5;124m'\u001b[39m\u001b[38;5;124margs\u001b[39m\u001b[38;5;124m'\u001b[39m]))\n\u001b[0;32m    328\u001b[0m           \u001b[38;5;28;01mfor\u001b[39;00m c \u001b[38;5;129;01min\u001b[39;00m cons[\u001b[38;5;124m'\u001b[39m\u001b[38;5;124meq\u001b[39m\u001b[38;5;124m'\u001b[39m]]))\n\u001b[1;32m--> 329\u001b[0m mieq \u001b[38;5;241m=\u001b[39m \u001b[38;5;28msum\u001b[39m(\u001b[38;5;28mmap\u001b[39m(\u001b[38;5;28mlen\u001b[39m, [atleast_1d(c[\u001b[38;5;124m'\u001b[39m\u001b[38;5;124mfun\u001b[39m\u001b[38;5;124m'\u001b[39m](x, \u001b[38;5;241m*\u001b[39mc[\u001b[38;5;124m'\u001b[39m\u001b[38;5;124margs\u001b[39m\u001b[38;5;124m'\u001b[39m]))\n\u001b[0;32m    330\u001b[0m            \u001b[38;5;28;01mfor\u001b[39;00m c \u001b[38;5;129;01min\u001b[39;00m cons[\u001b[38;5;124m'\u001b[39m\u001b[38;5;124mineq\u001b[39m\u001b[38;5;124m'\u001b[39m]]))\n\u001b[0;32m    331\u001b[0m \u001b[38;5;66;03m# m = The total number of constraints\u001b[39;00m\n\u001b[0;32m    332\u001b[0m m \u001b[38;5;241m=\u001b[39m meq \u001b[38;5;241m+\u001b[39m mieq\n",
      "Cell \u001b[1;32mIn[128], line 25\u001b[0m, in \u001b[0;36mconstraint\u001b[1;34m(x, e)\u001b[0m\n\u001b[0;32m     23\u001b[0m \u001b[38;5;28;01mdef\u001b[39;00m \u001b[38;5;21mconstraint\u001b[39m(x, e):\n\u001b[0;32m     24\u001b[0m     K, gamma \u001b[38;5;241m=\u001b[39m x\n\u001b[1;32m---> 25\u001b[0m     M, L, pi, rho, c1, c2, pi \u001b[38;5;241m=\u001b[39m parameter(K, gamma)\n\u001b[0;32m     26\u001b[0m     \u001b[38;5;28;01mreturn\u001b[39;00m pi \u001b[38;5;241m*\u001b[39m agent_utility(c2, rho) \u001b[38;5;241m+\u001b[39m (\u001b[38;5;241m1\u001b[39m \u001b[38;5;241m-\u001b[39m pi) \u001b[38;5;241m*\u001b[39m agent_utility(c1, rho) \u001b[38;5;241m-\u001b[39m ( ((pi \u001b[38;5;241m-\u001b[39m pi_f)\u001b[38;5;241m*\u001b[39m(agent_utility(c1, rho)\u001b[38;5;241m-\u001b[39magent_utility(c2, rho)))) \u001b[38;5;241m-\u001b[39m (pi \u001b[38;5;241m*\u001b[39m agent_utility(M \u001b[38;5;241m-\u001b[39m L, rho) \u001b[38;5;241m+\u001b[39m (\u001b[38;5;241m1\u001b[39m \u001b[38;5;241m-\u001b[39m pi) \u001b[38;5;241m*\u001b[39m agent_utility(M, rho))\n",
      "\u001b[1;31mTypeError\u001b[0m: parameter() missing 1 required positional argument: 'e'"
     ]
    }
   ],
   "source": [
    "#forsigtig med variabel e \n",
    "def parameter(K, gamma, e):\n",
    "    M = 50\n",
    "    L = 15\n",
    "    rho = 0.95\n",
    "    pi = 0.1\n",
    "    pi_s = 0.3\n",
    "\n",
    "    # Compute consumptions\n",
    "    c1 = M - gamma\n",
    "    c2 = M - gamma - L + K\n",
    "\n",
    "    return M, L, e, rho, c1, c2, pi, pi_f \n",
    "\n",
    "def principal_problem(x, e):\n",
    "    K, gamma = x\n",
    "    M, L, e, rho, c1, c2, pi, pi_f = parameter(K, gamma, e)\n",
    "    return -(M - pi * L - (1 - pi) * c1 - pi_values * c2)\n",
    "\n",
    "def agent_utility(c, rho):\n",
    "    return c**(1 - rho) / (1 - rho)\n",
    "\n",
    "def constraint(x, e):\n",
    "    K, gamma = x\n",
    "    M, L, pi, rho, c1, c2, pi = parameter(K, gamma)\n",
    "    return pi * agent_utility(c2, rho) + (1 - pi) * agent_utility(c1, rho) - ( ((pi - pi_f)*(agent_utility(c1, rho)-agent_utility(c2, rho)))) - (pi * agent_utility(M - L, rho) + (1 - pi) * agent_utility(M, rho))\n",
    "\n",
    "def optimize_for_pi(e_value):\n",
    "    initial_guess_K_gamma = [2, 2]  # Initial guess for K and gamma\n",
    "\n",
    "    # Define bounds for K and gamma\n",
    "    bounds = [(0, None), (0, None)]  # K >= 0, gamma >= 0\n",
    "\n",
    "    # Perform optimization with constraint\n",
    "    result = optimize.minimize(principal_problem, initial_guess_K_gamma, args=(e_value,),\n",
    "                               method='SLSQP', bounds=bounds,\n",
    "                               constraints={'type': 'ineq', 'fun': constraint, 'args': (e_value,)},\n",
    "                               options={'maxiter': 1000})\n",
    "\n",
    "    K, gamma = result.x\n",
    "    return K, gamma, result.success\n",
    "\n",
    "# Define a range of possible values for pi\n",
    "e_values = np.linspace(0.05, 15, 15)  # e.g., 11 values from 0 to 1\n",
    "\n",
    "# Loop over all pi values and store results\n",
    "results = []\n",
    "for e_val in e_values:\n",
    "    K, gamma, success = optimize_for_pi(e_val)\n",
    "    if success:\n",
    "        results.append((e_val, K, gamma))\n",
    "    else:\n",
    "        results.append((e_val, None, None))\n",
    "\n",
    "e_values_t = []\n",
    "gamma_values_t = []\n",
    "K_values_t = []\n",
    "\n",
    "for res in results:\n",
    "    pi_val, K, gamma = res\n",
    "    if K is not None and gamma is not None:\n",
    "        pi_values_t.append(e_val)\n",
    "        gamma_values_t.append(gamma)\n",
    "        K_values_t.append(K)\n",
    "\n",
    "# Print the results\n",
    "print(\"Optimal values:\")\n",
    "for res in results:\n",
    "    e_val, K, gamma = res\n",
    "    if K is not None and gamma is not None:\n",
    "        print(f\"For pi = {e_val:.2f}, K: {K:.2f}, gamma: {gamma:.2f}\")\n",
    "    else:\n",
    "        print(f\"For pi = {e_val:.2f}, optimization did not converge.\")\n",
    "\n",
    "#print(results)\n"
   ]
  },
  {
   "cell_type": "markdown",
   "metadata": {},
   "source": [
    "# Conclusion"
   ]
  },
  {
   "cell_type": "markdown",
   "metadata": {},
   "source": [
    "Add concise conclusion. "
   ]
  }
 ],
 "metadata": {
  "kernelspec": {
   "display_name": "base",
   "language": "python",
   "name": "python3"
  },
  "language_info": {
   "codemirror_mode": {
    "name": "ipython",
    "version": 3
   },
   "file_extension": ".py",
   "mimetype": "text/x-python",
   "name": "python",
   "nbconvert_exporter": "python",
   "pygments_lexer": "ipython3",
   "version": "3.11.7"
  },
  "toc-autonumbering": true,
  "vscode": {
   "interpreter": {
    "hash": "47ef90cdf3004d3f859f1fb202523c65c07ba7c22eefd261b181f4744e2d0403"
   }
  }
 },
 "nbformat": 4,
 "nbformat_minor": 4
}
