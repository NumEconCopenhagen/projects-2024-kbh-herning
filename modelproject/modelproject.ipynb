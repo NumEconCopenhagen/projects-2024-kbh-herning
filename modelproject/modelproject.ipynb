{
 "cells": [
  {
   "cell_type": "markdown",
   "metadata": {},
   "source": [
    "# Solving A Principal Agent model for Insurance "
   ]
  },
  {
   "cell_type": "markdown",
   "metadata": {},
   "source": [
    "In this project we will attempt to solve a principal agent problem for insurance. \n",
    "\n",
    "In the principal agent problem we have a principal(insurance company) who offers an insurance contract to the agent(consumer). The principal will want to maximize his expected profit, however he also has to take into consideration, that it needs to be beneficial for the agent to accept the contract. \n",
    "\n",
    "We will setup and solve the model analytically and numerically. We will also extend the model to include selvrisk for the agent, and see how this changes the outcome of the maximization problem. "
   ]
  },
  {
   "cell_type": "markdown",
   "metadata": {},
   "source": [
    "Imports and set magics:"
   ]
  },
  {
   "cell_type": "code",
   "execution_count": 1,
   "metadata": {},
   "outputs": [],
   "source": [
    "import numpy as np\n",
    "from scipy import optimize\n",
    "import sympy as sm\n",
    "import matplotlib.pyplot as plt\n",
    "plt.rcParams.update({\"axes.grid\":True,\"grid.color\":\"black\",\"grid.alpha\":\"0.25\",\"grid.linestyle\":\"--\"})\n",
    "plt.rcParams.update({'font.size': 14})\n",
    "\n",
    "# autoreload modules when code is run\n",
    "%load_ext autoreload\n",
    "%autoreload 2\n",
    "\n",
    "# local modules\n",
    "import modelproject"
   ]
  },
  {
   "cell_type": "markdown",
   "metadata": {},
   "source": [
    "# Model description"
   ]
  },
  {
   "cell_type": "markdown",
   "metadata": {},
   "source": [
    "# Principal Agent model with Insurance I"
   ]
  },
  {
   "cell_type": "markdown",
   "metadata": {},
   "source": [
    "The agent is a consumer whos utility depends on consumption $c$ given by the utility function $v(c)$.  \n",
    "The agents consumption depends on income $M$ and whether or not he experiences \"accidents\". \n",
    "\n",
    "If the agent experiences accidents he loses a portion of his income denoted by $L$\n",
    "\n",
    "with probability $\\pi$ he experiences an accident and gets: \n",
    "\n",
    "$$\n",
    "c = M - L\n",
    "$$\n",
    "\n",
    "with probability $(1-\\pi)$ he does not experience accidents and gets: \n",
    "\n",
    "$$\n",
    "c = M\n",
    "$$\n",
    "\n",
    "The principal is an insurance company, that sells insurances with a price $\\Gamma$ and payment of $K$;\n",
    "\n",
    "The agent pays the price and following scenarios can happen;\n",
    "\n",
    "with probability of $\\pi$ the agent experiences an accident and loses $L$, but gets the insurance payment of $K$, Thus\n",
    "\n",
    "$$\n",
    "c = M - \\Gamma - L + K\n",
    "$$\n",
    "\n",
    "with probability 1-$\\pi$ the agent does not experience accidents and gets: \n",
    "\n",
    "$$\n",
    "c = M - \\Gamma \n",
    "$$"
   ]
  },
  {
   "cell_type": "markdown",
   "metadata": {},
   "source": [
    "The agent has two options,\n",
    "\n",
    "To sign the insurance contract with the principal, or to choose the outside option denoted by $\\overline{v}$\n",
    "\n",
    "$$\n",
    "\\overline{v} = \\pi * v(M-L) + (1-\\pi) * v(M)\n",
    "$$\n",
    "\n",
    "we assume the agent maximizes utility and we assume $v' > 0$ and $v'' < 0$,\n",
    "which means that the agent likes to consume and would like to avoid risks. \n",
    "\n",
    "We also assume that the principal maximizes expected utility. \n",
    "\n",
    "We can now write up our principal agent problem, where $\\Gamma - K$ is profit for the principal without accidents and $\\Gamma$ is the profit without accidents.\n",
    "$$\n",
    "\\max_{\\Gamma, K} \\pi * (\\Gamma - K) + (1-\\pi) * \\Gamma\\\\\n",
    "\n",
    "s.t. \\\\\n",
    "\n",
    "\n",
    "\\pi * v(M - \\Gamma - L + K) + (1 - \\pi) * v(M - \\Gamma) \\underline{>} \\overline{v}\n",
    "$$ \n",
    "\n",
    "The contraint ensures that the agents utility by accepting the insurance contract is atleast as big as the utility he gets from choosing the outside option, when the function is maximized. "
   ]
  },
  {
   "cell_type": "markdown",
   "metadata": {},
   "source": [
    "## Analytical solution"
   ]
  },
  {
   "cell_type": "markdown",
   "metadata": {},
   "source": [
    "If your model allows for an analytical solution, you should provide here.\n",
    "\n",
    "You may use Sympy for this. Then you can characterize the solution as a function of a parameter of the model.\n",
    "\n",
    "To characterize the solution, first derive a steady state equation as a function of a parameter using Sympy.solve and then turn it into a python function by Sympy.lambdify. See the lecture notes for details. "
   ]
  },
  {
   "cell_type": "markdown",
   "metadata": {},
   "source": [
    "First we will solve the model analytically by the use of Sympy.\n",
    "\n",
    "We start by defining $c_1 = M - \\Gamma$ as consumption with out accident and $c_2 = M - \\Gamma - L + K$ as consumption with accident.\n",
    "\n",
    "Note that if we choose a particular $\\Gamma$ and $K$ we can find $c_1$ and $c_2$ directly, and vice versa if we choose a particular $c_1$ and $c_2$.\n",
    "\n",
    "Thereby we can express the principal-Agent problem as following, \n",
    "$$\n",
    "\\max_{c_1,c_2} M - \\pi \\cdot L - (1-\\pi)c_1 - \\pi c_2 \\\\\n",
    "s.t. \\\\\n",
    "\\pi \\cdot v(c_2) + (1-\\pi) \\cdot v(c_1) \\geq \\overline{v} \n",
    "$$"
   ]
  },
  {
   "cell_type": "code",
   "execution_count": 2,
   "metadata": {},
   "outputs": [],
   "source": [
    "from modelproject import define_symbols, calculate_derivatives, solve_equations\n",
    "\n",
    "# Defines symbols\n",
    "L, M, pi, c_1, c_2, lam, v_overline, v = define_symbols()\n",
    "\n",
    "# calculates derivatives and formulates equations\n",
    "principal, condition, lagrange, Lc_1, Lc_2, Llam, v_diff_c1, v_diff_c2 = calculate_derivatives(L, M, pi, c_1, c_2, lam, v_overline, v)\n",
    "\n",
    "#passer "
   ]
  },
  {
   "cell_type": "markdown",
   "metadata": {},
   "source": [
    "1. We see that the second order condition must be binding\n",
    "$$\n",
    "\\pi \\cdot v(c_2) + (1-\\pi) \\cdot v(c_1) = \\overline{v} \n",
    "$$\n",
    "2. and then we solve the problem using lagrange."
   ]
  },
  {
   "cell_type": "code",
   "execution_count": 3,
   "metadata": {},
   "outputs": [
    {
     "name": "stdout",
     "output_type": "stream",
     "text": [
      "L = \n"
     ]
    },
    {
     "data": {
      "text/latex": [
       "$\\displaystyle - L \\pi + M - c_{1} \\cdot \\left(1 - \\pi\\right) - c_{2} \\pi + \\lambda \\left(- \\overline{v} + \\pi v{\\left(c_{2} \\right)} + \\left(1 - \\pi\\right) v{\\left(c_{1} \\right)}\\right)$"
      ],
      "text/plain": [
       "-L*pi + M - c_1*(1 - pi) - c_2*pi + lambda*(-\\overline{v} + pi*v(c_2) + (1 - pi)*v(c_1))"
      ]
     },
     "metadata": {},
     "output_type": "display_data"
    }
   ],
   "source": [
    "print('L = ')\n",
    "display(lagrange)"
   ]
  },
  {
   "cell_type": "markdown",
   "metadata": {},
   "source": [
    "Imports and set magics:"
   ]
  },
  {
   "cell_type": "markdown",
   "metadata": {},
   "source": [
    "Find the first order derivatives"
   ]
  },
  {
   "cell_type": "code",
   "execution_count": 4,
   "metadata": {},
   "outputs": [
    {
     "data": {
      "text/latex": [
       "$\\displaystyle 0 = \\lambda \\left(1 - \\pi\\right) \\frac{d}{d c_{1}} v{\\left(c_{1} \\right)} + \\pi - 1$"
      ],
      "text/plain": [
       "Eq(0, lambda*(1 - pi)*Derivative(v(c_1), c_1) + pi - 1)"
      ]
     },
     "metadata": {},
     "output_type": "display_data"
    },
    {
     "data": {
      "text/latex": [
       "$\\displaystyle 0 = \\lambda \\pi \\frac{d}{d c_{2}} v{\\left(c_{2} \\right)} - \\pi$"
      ],
      "text/plain": [
       "Eq(0, lambda*pi*Derivative(v(c_2), c_2) - pi)"
      ]
     },
     "metadata": {},
     "output_type": "display_data"
    },
    {
     "data": {
      "text/latex": [
       "$\\displaystyle 0 = - \\overline{v} + \\pi v{\\left(c_{2} \\right)} + \\left(1 - \\pi\\right) v{\\left(c_{1} \\right)}$"
      ],
      "text/plain": [
       "Eq(0, -\\overline{v} + pi*v(c_2) + (1 - pi)*v(c_1))"
      ]
     },
     "metadata": {},
     "output_type": "display_data"
    }
   ],
   "source": [
    "display(Lc_1)\n",
    "display(Lc_2)\n",
    "display(Llam)"
   ]
  },
  {
   "cell_type": "markdown",
   "metadata": {},
   "source": [
    "We solve for $\\frac{d}{dc_1}v(c_1)$ and $\\frac{d}{dc_2}v(c_2)$"
   ]
  },
  {
   "cell_type": "code",
   "execution_count": 5,
   "metadata": {},
   "outputs": [
    {
     "data": {
      "text/latex": [
       "$\\displaystyle \\frac{d}{d c_{1}} v{\\left(c_{1} \\right)} = \\frac{1}{\\lambda}$"
      ],
      "text/plain": [
       "Eq(Derivative(v(c_1), c_1), 1/lambda)"
      ]
     },
     "metadata": {},
     "output_type": "display_data"
    },
    {
     "data": {
      "text/latex": [
       "$\\displaystyle \\frac{d}{d c_{2}} v{\\left(c_{2} \\right)} = \\frac{1}{\\lambda}$"
      ],
      "text/plain": [
       "Eq(Derivative(v(c_2), c_2), 1/lambda)"
      ]
     },
     "metadata": {},
     "output_type": "display_data"
    }
   ],
   "source": [
    "# Solve the system of equations\n",
    "solution = solve_equations(Lc_1, Lc_2, Llam, v_diff_c1, v_diff_c2)\n",
    "\n",
    "# check for a solution\n",
    "if isinstance(solution, dict):\n",
    "    for var, sol in solution.items():\n",
    "        eq = sm.Eq(var, sol)\n",
    "        display(eq)\n",
    "elif isinstance(solution, list) and solution:\n",
    "    for sol in solution:\n",
    "        display(sol)\n",
    "else:\n",
    "    print(\"No solutions found.\")"
   ]
  },
  {
   "cell_type": "markdown",
   "metadata": {},
   "source": [
    "Meaning that optimal contract includes that $c_1 = c_2$. Since $c_1 = M - \\Gamma$ we can write $c_2 = M - \\Gamma - L + K \\Leftrightarrow c_2 = c_1 - L + K \\Leftrightarrow L = c_1 - c_2 + K$ which means that $L = K$.\n",
    "This means that the ensurance payout from the principal to the agent needs to be as large as the loss the agent experiences, when he has an accident. \n",
    "\n",
    "To check if our analytical solution is correct we will solve the model numerically by the use of an optimization algorithm."
   ]
  },
  {
   "cell_type": "markdown",
   "metadata": {},
   "source": [
    "## Numerical solution"
   ]
  },
  {
   "cell_type": "markdown",
   "metadata": {},
   "source": [
    "In order to solve the model numerically we define the parameters of the model which we have chosen arbitrarily. \n",
    "\n",
    "Then we define the principal agent problem by including a minus infront of our function. \n",
    "\n",
    "Then we use the optimization algorithm optimize.minimize to minimize the profit of the principal, effectively maximizing it since we have turned it into a negative."
   ]
  },
  {
   "cell_type": "code",
   "execution_count": 6,
   "metadata": {},
   "outputs": [
    {
     "name": "stdout",
     "output_type": "stream",
     "text": [
      "Optimal values:\n",
      "For pi = 0.10, K: 5.00, gamma: 0.51\n",
      "For pi = 0.20, K: 5.00, gamma: 1.01\n",
      "For pi = 0.30, K: 5.00, gamma: 1.52\n",
      "For pi = 0.40, K: 5.00, gamma: 2.02\n",
      "For pi = 0.50, K: 5.00, gamma: 2.52\n",
      "For pi = 0.60, K: 5.00, gamma: 3.02\n",
      "For pi = 0.70, K: 5.00, gamma: 3.52\n",
      "For pi = 0.80, K: 5.00, gamma: 4.01\n",
      "For pi = 0.90, K: 5.00, gamma: 4.51\n"
     ]
    }
   ],
   "source": [
    "# Import the class from the module\n",
    "from modelproject import numerical_solution\n",
    "\n",
    "# Create an instance of the class\n",
    "num_sol = numerical_solution()\n",
    "\n",
    "# Run the optimization\n",
    "num_sol.run_optimization()\n",
    "\n",
    "# Print the results\n",
    "num_sol.print_results()"
   ]
  },
  {
   "cell_type": "code",
   "execution_count": 7,
   "metadata": {},
   "outputs": [],
   "source": [
    "# Extract results for plotting\n",
    "pi_values_t = [res[0] for res in num_sol.results]\n",
    "gamma_values_t = [res[2] for res in num_sol.results if res[1] is not None and res[2] is not None]\n",
    "K_values_t = [res[1] for res in num_sol.results if res[1] is not None and res[2] is not None]"
   ]
  },
  {
   "cell_type": "markdown",
   "metadata": {},
   "source": [
    "From solving our model we can again see that K = L. We can also see that the larger the chance for an accident is (defined by pi), the bigger the insurance price must be. "
   ]
  },
  {
   "cell_type": "code",
   "execution_count": 8,
   "metadata": {},
   "outputs": [
    {
     "data": {
      "image/png": "[encoded data removed]",
      "text/plain": [
       "<Figure size 1000x400 with 2 Axes>"
      ]
     },
     "metadata": {},
     "output_type": "display_data"
    }
   ],
   "source": [
    "fig = plt.figure(figsize=(10,4))\n",
    "\n",
    "# First subplot for gamma vs pi\n",
    "ax = fig.add_subplot(1,2,1)\n",
    "ax.plot(pi_values_t, gamma_values_t, linestyle='-')  # Make sure you have these lists ready from your results\n",
    "ax.set_xlabel('$\\pi$')\n",
    "ax.set_ylabel('$\\Gamma$')\n",
    "ax.set_title('Different $\\gamma$ for different $\\pi$')\n",
    "\n",
    "# Second subplot for K vs pi\n",
    "ax2 = fig.add_subplot(1,2,2)\n",
    "ax2.plot(pi_values_t, K_values_t, linestyle='-')  # Assuming you have these lists from your optimization results\n",
    "ax2.scatter(0.5, 5, marker='s', color='black', label='$L$')  # Example, adjust 'L' as needed\n",
    "ax2.set_xlabel('$\\pi$')\n",
    "ax2.set_ylabel('$K$')\n",
    "ax2.set_title('Different K for different $\\pi$')\n",
    "ax2.set_ylim([0, 10])\n",
    "\n",
    "# Include legend if necessary\n",
    "ax2.legend()\n",
    "\n",
    "fig.tight_layout(pad=1.0)\n",
    "plt.show()"
   ]
  },
  {
   "cell_type": "markdown",
   "metadata": {},
   "source": [
    "# Further analysis"
   ]
  },
  {
   "cell_type": "markdown",
   "metadata": {},
   "source": [
    "We now extend our modul to account for the fact that the insurance company cannot observe whether or not the agent is careful or not. The insurance company would ideally like to formulate one type of contract to a careless agent, and one type of contract to a careful agent. \n",
    "\n",
    "But how does the insurance company know, that the careful contract which has a lower price than the careless one, is gonna be upheld by the supposed careful agent? \n",
    "\n",
    "They do by structuring the contract, so that the value of being a careful agent subsides the cost of being a careful agent. \n",
    "\n",
    "$$\n",
    "\\max_{c_1,c_2} M - \\pi \\cdot L - (1-\\pi)c_1 - \\pi c_2 \\\\\n",
    "s.t. \\\\\n",
    "\\pi \\cdot v(c_2) + (1-\\pi) \\cdot v(c_1) - e \\geq \\overline{v} \\\\\n",
    "\n",
    "(\\pi_s - \\pi) \\cdot (v(c_1) - v(c_2)) \\geq e \n",
    "$$\n",
    "\n",
    "where $\\pi_s$ defined the probability of an accident happening if you are careless, and e being the cost of being careful. \n",
    "\n"
   ]
  },
  {
   "cell_type": "code",
   "execution_count": 26,
   "metadata": {},
   "outputs": [
    {
     "name": "stdout",
     "output_type": "stream",
     "text": [
      "Optimal values:\n",
      "For e = 0.01, K: 4.92, gamma: 0.47\n",
      "For e = 0.01, K: 4.90, gamma: 0.46\n",
      "For e = 0.02, K: 4.87, gamma: 0.44\n",
      "For e = 0.02, K: 4.85, gamma: 0.43\n",
      "For e = 0.02, K: 4.83, gamma: 0.42\n",
      "For e = 0.02, K: 4.81, gamma: 0.41\n",
      "For e = 0.03, K: 4.78, gamma: 0.40\n",
      "For e = 0.03, K: 4.76, gamma: 0.39\n",
      "For e = 0.03, K: 4.74, gamma: 0.38\n",
      "For e = 0.04, K: 4.71, gamma: 0.36\n",
      "For e = 0.04, K: 4.69, gamma: 0.35\n",
      "For e = 0.04, K: 4.67, gamma: 0.34\n",
      "For e = 0.04, K: 4.65, gamma: 0.33\n",
      "For e = 0.05, K: 4.62, gamma: 0.32\n",
      "For e = 0.05, K: 4.60, gamma: 0.31\n",
      "For e = 0.05, K: 4.58, gamma: 0.30\n",
      "For e = 0.06, K: 4.55, gamma: 0.28\n",
      "For e = 0.06, K: 4.53, gamma: 0.27\n",
      "For e = 0.06, K: 4.51, gamma: 0.26\n",
      "For e = 0.06, K: 4.49, gamma: 0.25\n",
      "For e = 0.07, K: 4.46, gamma: 0.24\n",
      "For e = 0.07, K: 4.44, gamma: 0.23\n",
      "For e = 0.07, K: 4.42, gamma: 0.22\n",
      "For e = 0.08, K: 4.40, gamma: 0.20\n",
      "For e = 0.08, K: 4.37, gamma: 0.19\n",
      "For e = 0.08, K: 4.35, gamma: 0.18\n",
      "For e = 0.08, K: 4.33, gamma: 0.17\n",
      "For e = 0.09, K: 4.30, gamma: 0.16\n",
      "For e = 0.09, K: 4.28, gamma: 0.15\n",
      "For e = 0.09, K: 4.26, gamma: 0.14\n"
     ]
    }
   ],
   "source": [
    "# Import the class from the module\n",
    "from modelproject import further_analysis\n",
    "\n",
    "# Create an instance of the class\n",
    "fa = further_analysis()\n",
    "\n",
    "# Run the optimization\n",
    "fa.run_optimization()\n",
    "\n",
    "# Print the results\n",
    "fa.print_results()"
   ]
  },
  {
   "cell_type": "code",
   "execution_count": 27,
   "metadata": {},
   "outputs": [
    {
     "data": {
      "image/png": "[encoded data removed]",
      "text/plain": [
       "<Figure size 1000x400 with 2 Axes>"
      ]
     },
     "metadata": {},
     "output_type": "display_data"
    }
   ],
   "source": [
    "# Plot the results\n",
    "fig = plt.figure(figsize=(10, 4))\n",
    "\n",
    "# First subplot for K vs e\n",
    "ax1 = fig.add_subplot(1, 2, 1)\n",
    "ax1.plot(fa.e_values, fa.K_values, linestyle='-', color='black', label='$K$')\n",
    "ax1.set_xlabel('$e$')\n",
    "ax1.set_ylabel('$K$')\n",
    "ax1.set_title('Optimal $K$ for different $e$')\n",
    "ax1.legend()\n",
    "\n",
    "# Second subplot for gamma vs e\n",
    "ax2 = fig.add_subplot(1, 2, 2)\n",
    "ax2.plot(fa.e_values, fa.gamma_values, linestyle='-', color='blue', label='$\\gamma$')\n",
    "ax2.set_xlabel('$e$')\n",
    "ax2.set_ylabel('$\\gamma$')\n",
    "ax2.set_title('Optimal $\\gamma$ for different $e$')\n",
    "ax2.legend()\n",
    "\n",
    "fig.tight_layout(pad=1.0)\n",
    "plt.show()"
   ]
  },
  {
   "cell_type": "markdown",
   "metadata": {},
   "source": [
    "Now we see that the price of the insurance is lower than before when the contract forces the agent to be careful. We also see that the bigger the cost of being careful is, the lower the price of the insurance has to be. "
   ]
  },
  {
   "cell_type": "markdown",
   "metadata": {},
   "source": [
    "# Conclusion"
   ]
  },
  {
   "cell_type": "markdown",
   "metadata": {},
   "source": [
    "From solving the principal agent model, we find that the payout (K) has to be equal to the loss (L) the agent can experience, in order for the contract to be accepted. We also derive from the model, that the price of the insurance increases when the chance for an accident increases. \n",
    "\n",
    "When we extended the model to include selvrisk (forcing the agent to be careful), we find that the payout (K) is now lower than the agents loss (L) when an accident accurs. We also find, that when the cost of being a careful agent (e) increases, the price of the insurance must fall in order for the agent to accept the contract. We lastly see that K also falls abit when e increases. "
   ]
  }
 ],
 "metadata": {
  "kernelspec": {
   "display_name": "base",
   "language": "python",
   "name": "python3"
  },
  "language_info": {
   "codemirror_mode": {
    "name": "ipython",
    "version": 3
   },
   "file_extension": ".py",
   "mimetype": "text/x-python",
   "name": "python",
   "nbconvert_exporter": "python",
   "pygments_lexer": "ipython3",
   "version": "3.11.7"
  },
  "toc-autonumbering": true,
  "vscode": {
   "interpreter": {
    "hash": "47ef90cdf3004d3f859f1fb202523c65c07ba7c22eefd261b181f4744e2d0403"
   }
  }
 },
 "nbformat": 4,
 "nbformat_minor": 4
}
