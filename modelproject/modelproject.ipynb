{
 "cells": [
  {
   "cell_type": "markdown",
   "metadata": {},
   "source": [
    "# YOUR PROJECT TITLE"
   ]
  },
  {
   "attachments": {},
   "cell_type": "markdown",
   "metadata": {},
   "source": [
    "> **Note the following:** \n",
    "> 1. This is *not* meant to be an example of an actual **model analysis project**, just an example of how to structure such a project.\n",
    "> 1. Remember the general advice on structuring and commenting your code\n",
    "> 1. The `modelproject.py` file includes a function which could be used multiple times in this notebook."
   ]
  },
  {
   "cell_type": "markdown",
   "metadata": {},
   "source": [
    "Imports and set magics:"
   ]
  },
  {
   "cell_type": "code",
   "execution_count": 30,
   "metadata": {},
   "outputs": [
    {
     "name": "stdout",
     "output_type": "stream",
     "text": [
      "The autoreload extension is already loaded. To reload it, use:\n",
      "  %reload_ext autoreload\n"
     ]
    }
   ],
   "source": [
    "import numpy as np\n",
    "from scipy import optimize\n",
    "import sympy as sm\n",
    "\n",
    "# autoreload modules when code is run\n",
    "%load_ext autoreload\n",
    "%autoreload 2\n",
    "\n",
    "# local modules\n",
    "import modelproject"
   ]
  },
  {
   "cell_type": "markdown",
   "metadata": {},
   "source": [
    "# Model description"
   ]
  },
  {
   "cell_type": "markdown",
   "metadata": {},
   "source": [
    "# Principal Agent model for forsikring I"
   ]
  },
  {
   "cell_type": "markdown",
   "metadata": {},
   "source": [
    "**Write out the model in equations here.** \n",
    "\n",
    "Make sure you explain well the purpose of the model and comment so that other students who may not have seen it before can follow.  "
   ]
  },
  {
   "cell_type": "markdown",
   "metadata": {},
   "source": [
    "The agent is a consumer which utility is depended on consumetion $c$ given the utility function $v(c)$.  \n",
    "\n",
    "Agenten er en forbruger hvis nytte afhænger af forbrug (c) via\n",
    "nyttefunktionen v(c); forbrug afhænger af indkomst M og om agenten\n",
    "oplever ”uheld”:\n",
    "• Med sandsynlighed 𝜋 oplever agenten et uheld og taber L, dvs.:\n",
    "c = M −L\n",
    "• Med sandsynlighed 1− 𝜋 oplever agenten ikke et uheld, dvs.:\n",
    "c = M"
   ]
  },
  {
   "cell_type": "markdown",
   "metadata": {},
   "source": [
    "## Analytical solution"
   ]
  },
  {
   "cell_type": "markdown",
   "metadata": {},
   "source": [
    "If your model allows for an analytical solution, you should provide here.\n",
    "\n",
    "You may use Sympy for this. Then you can characterize the solution as a function of a parameter of the model.\n",
    "\n",
    "To characterize the solution, first derive a steady state equation as a function of a parameter using Sympy.solve and then turn it into a python function by Sympy.lambdify. See the lecture notes for details. "
   ]
  },
  {
   "cell_type": "markdown",
   "metadata": {},
   "source": [
    "We start by defining $c_1 = M - \\Gamma$ as consumption with out accident and $c_2 = M - \\Gamma - L + K$ as consumption with accident.\n",
    "\n",
    "Note that if we choose a particular $\\Gamma$ and $K$ we can find $c_1$ and $c_2$ directly, and vice versa if we choose a particular $c_1$ and $c_2$.\n",
    "\n",
    "There by we can expresse the principal-Agent problem as following, \n",
    "$$\n",
    "\\max_{c_1,c_2} M - \\pi \\cdot L - (1-\\pi)c_1 - \\pi c_2 \\\\\n",
    "s.t. \\\\\n",
    "\\pi \\cdot v(c_2) + (1-\\pi) \\cdot v(c_1) \\geq \\overline{v} \n",
    "$$"
   ]
  },
  {
   "cell_type": "code",
   "execution_count": 31,
   "metadata": {},
   "outputs": [],
   "source": [
    "from modelproject import define_symbols, calculate_derivatives, solve_equations\n",
    "\n",
    "# Definer symbolerne\n",
    "L, M, pi, c_1, c_2, lam, v_overline, v = define_symbols()\n",
    "\n",
    "# Beregn derivaterne og opret ligninger\n",
    "principal, condition, lagrange, Lc_1, Lc_2, Llam, v_diff_c1, v_diff_c2 = calculate_derivatives(L, M, pi, c_1, c_2, lam, v_overline, v)\n",
    "\n",
    "#passer "
   ]
  },
  {
   "cell_type": "markdown",
   "metadata": {},
   "source": [
    "1. We see that the second order condition must be binding\n",
    "$$\n",
    "\\pi \\cdot v(c_2) + (1-\\pi) \\cdot v(c_1) = \\overline{v} \n",
    "$$\n",
    "2. and then we solve the problem using lagrange."
   ]
  },
  {
   "cell_type": "code",
   "execution_count": 42,
   "metadata": {},
   "outputs": [
    {
     "name": "stdout",
     "output_type": "stream",
     "text": [
      "L = \n"
     ]
    },
    {
     "data": {
      "text/latex": [
       "$\\displaystyle - L \\pi + M - c_{1} \\cdot \\left(1 - \\pi\\right) - c_{2} \\pi + \\lambda \\left(- \\overline{v} + \\pi v{\\left(c_{2} \\right)} + \\left(1 - \\pi\\right) v{\\left(c_{1} \\right)}\\right)$"
      ],
      "text/plain": [
       "-L*pi + M - c_1*(1 - pi) - c_2*pi + lambda*(-\\overline{v} + pi*v(c_2) + (1 - pi)*v(c_1))"
      ]
     },
     "metadata": {},
     "output_type": "display_data"
    }
   ],
   "source": [
    "print('L = ')\n",
    "display(lagrange)"
   ]
  },
  {
   "cell_type": "markdown",
   "metadata": {},
   "source": [
    "Find the first order derivatives"
   ]
  },
  {
   "cell_type": "code",
   "execution_count": 33,
   "metadata": {},
   "outputs": [
    {
     "data": {
      "text/latex": [
       "$\\displaystyle 0 = \\lambda \\left(1 - \\pi\\right) \\frac{d}{d c_{1}} v{\\left(c_{1} \\right)} + \\pi - 1$"
      ],
      "text/plain": [
       "Eq(0, lambda*(1 - pi)*Derivative(v(c_1), c_1) + pi - 1)"
      ]
     },
     "metadata": {},
     "output_type": "display_data"
    },
    {
     "data": {
      "text/latex": [
       "$\\displaystyle 0 = \\lambda \\pi \\frac{d}{d c_{2}} v{\\left(c_{2} \\right)} - \\pi$"
      ],
      "text/plain": [
       "Eq(0, lambda*pi*Derivative(v(c_2), c_2) - pi)"
      ]
     },
     "metadata": {},
     "output_type": "display_data"
    },
    {
     "data": {
      "text/latex": [
       "$\\displaystyle 0 = - \\overline{v} + \\pi v{\\left(c_{2} \\right)} + \\left(1 - \\pi\\right) v{\\left(c_{1} \\right)}$"
      ],
      "text/plain": [
       "Eq(0, -\\overline{v} + pi*v(c_2) + (1 - pi)*v(c_1))"
      ]
     },
     "metadata": {},
     "output_type": "display_data"
    }
   ],
   "source": [
    "display(Lc_1)\n",
    "display(Lc_2)\n",
    "display(Llam)"
   ]
  },
  {
   "cell_type": "markdown",
   "metadata": {},
   "source": [
    "We solve for $\\frac{d}{dc_1}v(c_1)$ and $\\frac{d}{dc_2}v(c_2)$"
   ]
  },
  {
   "cell_type": "code",
   "execution_count": 34,
   "metadata": {},
   "outputs": [
    {
     "data": {
      "text/latex": [
       "$\\displaystyle \\frac{d}{d c_{1}} v{\\left(c_{1} \\right)} = \\frac{1}{\\lambda}$"
      ],
      "text/plain": [
       "Eq(Derivative(v(c_1), c_1), 1/lambda)"
      ]
     },
     "metadata": {},
     "output_type": "display_data"
    },
    {
     "data": {
      "text/latex": [
       "$\\displaystyle \\frac{d}{d c_{2}} v{\\left(c_{2} \\right)} = \\frac{1}{\\lambda}$"
      ],
      "text/plain": [
       "Eq(Derivative(v(c_2), c_2), 1/lambda)"
      ]
     },
     "metadata": {},
     "output_type": "display_data"
    }
   ],
   "source": [
    "# Solve the system of equations\n",
    "solution = solve_equations(Lc_1, Lc_2, Llam, v_diff_c1, v_diff_c2)\n",
    "\n",
    "# check for a solution\n",
    "if isinstance(solution, dict):\n",
    "    for var, sol in solution.items():\n",
    "        eq = sm.Eq(var, sol)\n",
    "        display(eq)\n",
    "elif isinstance(solution, list) and solution:\n",
    "    for sol in solution:\n",
    "        display(sol)\n",
    "else:\n",
    "    print(\"No solutions found.\")"
   ]
  },
  {
   "cell_type": "markdown",
   "metadata": {},
   "source": [
    "Meaning that optimal contract includes that $c_1 = c_2$. Since $c_1 = M - \\Gamma$ can we write $c_2 = M - \\Gamma - L + K \\Leftrightarrow c_2 = c_1 - L + K \\Leftrightarrow L = c_1 - c_2 + K$ which means that $L = K$."
   ]
  },
  {
   "cell_type": "markdown",
   "metadata": {},
   "source": [
    "## Numerical solution"
   ]
  },
  {
   "cell_type": "markdown",
   "metadata": {},
   "source": [
    "You can always solve a model numerically. \n",
    "\n",
    "Define first the set of parameters you need. \n",
    "\n",
    "Then choose one of the optimization algorithms that we have gone through in the lectures based on what you think is most fitting for your model.\n",
    "\n",
    "Are there any problems with convergence? Does the model converge for all starting values? Make a lot of testing to figure these things out. "
   ]
  },
  {
   "cell_type": "markdown",
   "metadata": {},
   "source": [
    "# Further analysis"
   ]
  },
  {
   "cell_type": "markdown",
   "metadata": {},
   "source": [
    "Make detailed vizualizations of how your model changes with parameter values. \n",
    "\n",
    "Try to make an extension of the model. "
   ]
  },
  {
   "cell_type": "markdown",
   "metadata": {},
   "source": [
    "# Conclusion"
   ]
  },
  {
   "cell_type": "markdown",
   "metadata": {},
   "source": [
    "Add concise conclusion. "
   ]
  }
 ],
 "metadata": {
  "kernelspec": {
   "display_name": "base",
   "language": "python",
   "name": "python3"
  },
  "language_info": {
   "codemirror_mode": {
    "name": "ipython",
    "version": 3
   },
   "file_extension": ".py",
   "mimetype": "text/x-python",
   "name": "python",
   "nbconvert_exporter": "python",
   "pygments_lexer": "ipython3",
   "version": "3.11.7"
  },
  "toc-autonumbering": true,
  "vscode": {
   "interpreter": {
    "hash": "47ef90cdf3004d3f859f1fb202523c65c07ba7c22eefd261b181f4744e2d0403"
   }
  }
 },
 "nbformat": 4,
 "nbformat_minor": 4
}
