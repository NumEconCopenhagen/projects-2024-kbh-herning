{
 "cells": [
  {
   "cell_type": "markdown",
   "metadata": {},
   "source": [
    "# YOUR PROJECT TITLE"
   ]
  },
  {
   "attachments": {},
   "cell_type": "markdown",
   "metadata": {},
   "source": [
    "> **Note the following:** \n",
    "> 1. This is *not* meant to be an example of an actual **model analysis project**, just an example of how to structure such a project.\n",
    "> 1. Remember the general advice on structuring and commenting your code\n",
    "> 1. The `modelproject.py` file includes a function which could be used multiple times in this notebook."
   ]
  },
  {
   "cell_type": "markdown",
   "metadata": {},
   "source": [
    "Imports and set magics:"
   ]
  },
  {
   "cell_type": "code",
   "execution_count": 47,
   "metadata": {},
   "outputs": [
    {
     "name": "stdout",
     "output_type": "stream",
     "text": [
      "The autoreload extension is already loaded. To reload it, use:\n",
      "  %reload_ext autoreload\n"
     ]
    }
   ],
   "source": [
    "import numpy as np\n",
    "from scipy import optimize\n",
    "import sympy as sm\n",
    "import matplotlib.pyplot as plt\n",
    "plt.rcParams.update({\"axes.grid\":True,\"grid.color\":\"black\",\"grid.alpha\":\"0.25\",\"grid.linestyle\":\"--\"})\n",
    "plt.rcParams.update({'font.size': 14})\n",
    "\n",
    "# autoreload modules when code is run\n",
    "%load_ext autoreload\n",
    "%autoreload 2\n",
    "\n",
    "# local modules\n",
    "import modelproject"
   ]
  },
  {
   "cell_type": "markdown",
   "metadata": {},
   "source": [
    "# Model description"
   ]
  },
  {
   "cell_type": "markdown",
   "metadata": {},
   "source": [
    "# Principal Agent model for forsikring I"
   ]
  },
  {
   "cell_type": "markdown",
   "metadata": {},
   "source": [
    "**Write out the model in equations here.** \n",
    "\n",
    "Make sure you explain well the purpose of the model and comment so that other students who may not have seen it before can follow.  "
   ]
  },
  {
   "cell_type": "markdown",
   "metadata": {},
   "source": [
    "The agent is a consumer whos utility depends on consumption $c$ given by the utility function $v(c)$.  \n",
    "The agents consumption depends on income $M$ and whether or not he experiences \"accidents\". \n",
    "\n",
    "If the agent experiences accidents he loses a portion of his income denoted by $L$\n",
    "\n",
    "with probability $\\pi$ he experiences an accident and gets: \n",
    "\n",
    "$$\n",
    "c = M - L\n",
    "$$\n",
    "\n",
    "with probability $(1-\\pi)$ he does not experience accidents and gets: \n",
    "\n",
    "$$\n",
    "c = M\n",
    "$$\n",
    "\n",
    "The principal is an insurance company, that sells insurances with a price $\\Gamma$ and payment of $K$;\n",
    "\n",
    "The agent pays the price and following scenarios can happen;\n",
    "\n",
    "with probability of $\\pi$ the agent experiences an accident and loses $L$, but gets the insurance payment of $K$, Thus\n",
    "\n",
    "$$\n",
    "c = M - \\Gamma - L + K\n",
    "$$\n",
    "\n",
    "with probability 1-$\\pi$ the agent does not experience accidents and gets: \n",
    "\n",
    "$$\n",
    "c = M - \\Gamma \n",
    "$$"
   ]
  },
  {
   "cell_type": "markdown",
   "metadata": {},
   "source": [
    "The agent has two options,\n",
    "\n",
    "To sign the insurance contract with the principal, or to choose the outside option denoted by $\\overline{v}$\n",
    "\n",
    "$$\n",
    "\\overline{v} = \\pi * v(M-L) + (1-\\pi) * v(M)\n",
    "$$\n",
    "\n",
    "we assume the agent maximizes utility and we assume $v' > 0$ and $v'' < 0$,\n",
    "which means that the agent likes to consume and would like to avoid risks. \n",
    "\n",
    "We also assume that the principal maximizes expected utility. \n",
    "\n",
    "We can now write up our principal agent problem, where $\\Gamma - K$ is profit for the principal without accidents and $\\Gamma$ is the profit without accidents.\n",
    "$$\n",
    "\\max_{\\Gamma, K} \\pi * (\\Gamma - K) + (1-\\pi) * \\Gamma\\\\\n",
    "\n",
    "s.t. \\\\\n",
    "\n",
    "\n",
    "\\pi * v(M - \\Gamma - L + K) + (1 - \\pi) * v(M - \\Gamma) \\underline{>} \\overline{v}\n",
    "$$ \n",
    "\n",
    "The contraint ensures that the agents utility by accepting the insurance contract is atleast as big as the utility he gets from choosing the outside option, when the function is maximized. "
   ]
  },
  {
   "cell_type": "markdown",
   "metadata": {},
   "source": [
    "## Analytical solution"
   ]
  },
  {
   "cell_type": "markdown",
   "metadata": {},
   "source": [
    "If your model allows for an analytical solution, you should provide here.\n",
    "\n",
    "You may use Sympy for this. Then you can characterize the solution as a function of a parameter of the model.\n",
    "\n",
    "To characterize the solution, first derive a steady state equation as a function of a parameter using Sympy.solve and then turn it into a python function by Sympy.lambdify. See the lecture notes for details. "
   ]
  },
  {
   "cell_type": "markdown",
   "metadata": {},
   "source": [
    "We start by defining $c_1 = M - \\Gamma$ as consumption with out accident and $c_2 = M - \\Gamma - L + K$ as consumption with accident.\n",
    "\n",
    "Note that if we choose a particular $\\Gamma$ and $K$ we can find $c_1$ and $c_2$ directly, and vice versa if we choose a particular $c_1$ and $c_2$.\n",
    "\n",
    "There by we can expresse the principal-Agent problem as following, \n",
    "$$\n",
    "\\max_{c_1,c_2} M - \\pi \\cdot L - (1-\\pi)c_1 - \\pi c_2 \\\\\n",
    "s.t. \\\\\n",
    "\\pi \\cdot v(c_2) + (1-\\pi) \\cdot v(c_1) \\geq \\overline{v} \n",
    "$$"
   ]
  },
  {
   "cell_type": "code",
   "execution_count": 48,
   "metadata": {},
   "outputs": [],
   "source": [
    "from modelproject import define_symbols, calculate_derivatives, solve_equations\n",
    "\n",
    "# Definer symbolerne\n",
    "L, M, pi, c_1, c_2, lam, v_overline, v = define_symbols()\n",
    "\n",
    "# Beregn derivaterne og opret ligninger\n",
    "principal, condition, lagrange, Lc_1, Lc_2, Llam, v_diff_c1, v_diff_c2 = calculate_derivatives(L, M, pi, c_1, c_2, lam, v_overline, v)\n",
    "\n",
    "#passer "
   ]
  },
  {
   "cell_type": "markdown",
   "metadata": {},
   "source": [
    "1. We see that the second order condition must be binding\n",
    "$$\n",
    "\\pi \\cdot v(c_2) + (1-\\pi) \\cdot v(c_1) = \\overline{v} \n",
    "$$\n",
    "2. and then we solve the problem using lagrange."
   ]
  },
  {
   "cell_type": "code",
   "execution_count": 49,
   "metadata": {},
   "outputs": [
    {
     "name": "stdout",
     "output_type": "stream",
     "text": [
      "L = \n"
     ]
    },
    {
     "data": {
      "text/latex": [
       "$\\displaystyle - L \\pi + M - c_{1} \\cdot \\left(1 - \\pi\\right) - c_{2} \\pi + \\lambda \\left(- \\overline{v} + \\pi v{\\left(c_{2} \\right)} + \\left(1 - \\pi\\right) v{\\left(c_{1} \\right)}\\right)$"
      ],
      "text/plain": [
       "-L*pi + M - c_1*(1 - pi) - c_2*pi + lambda*(-\\overline{v} + pi*v(c_2) + (1 - pi)*v(c_1))"
      ]
     },
     "metadata": {},
     "output_type": "display_data"
    }
   ],
   "source": [
    "print('L = ')\n",
    "display(lagrange)"
   ]
  },
  {
   "cell_type": "markdown",
   "metadata": {},
   "source": [
    "Find the first order derivatives"
   ]
  },
  {
   "cell_type": "code",
   "execution_count": 50,
   "metadata": {},
   "outputs": [
    {
     "data": {
      "text/latex": [
       "$\\displaystyle 0 = \\lambda \\left(1 - \\pi\\right) \\frac{d}{d c_{1}} v{\\left(c_{1} \\right)} + \\pi - 1$"
      ],
      "text/plain": [
       "Eq(0, lambda*(1 - pi)*Derivative(v(c_1), c_1) + pi - 1)"
      ]
     },
     "metadata": {},
     "output_type": "display_data"
    },
    {
     "data": {
      "text/latex": [
       "$\\displaystyle 0 = \\lambda \\pi \\frac{d}{d c_{2}} v{\\left(c_{2} \\right)} - \\pi$"
      ],
      "text/plain": [
       "Eq(0, lambda*pi*Derivative(v(c_2), c_2) - pi)"
      ]
     },
     "metadata": {},
     "output_type": "display_data"
    },
    {
     "data": {
      "text/latex": [
       "$\\displaystyle 0 = - \\overline{v} + \\pi v{\\left(c_{2} \\right)} + \\left(1 - \\pi\\right) v{\\left(c_{1} \\right)}$"
      ],
      "text/plain": [
       "Eq(0, -\\overline{v} + pi*v(c_2) + (1 - pi)*v(c_1))"
      ]
     },
     "metadata": {},
     "output_type": "display_data"
    }
   ],
   "source": [
    "display(Lc_1)\n",
    "display(Lc_2)\n",
    "display(Llam)"
   ]
  },
  {
   "cell_type": "markdown",
   "metadata": {},
   "source": [
    "We solve for $\\frac{d}{dc_1}v(c_1)$ and $\\frac{d}{dc_2}v(c_2)$"
   ]
  },
  {
   "cell_type": "code",
   "execution_count": 51,
   "metadata": {},
   "outputs": [
    {
     "data": {
      "text/latex": [
       "$\\displaystyle \\frac{d}{d c_{1}} v{\\left(c_{1} \\right)} = \\frac{1}{\\lambda}$"
      ],
      "text/plain": [
       "Eq(Derivative(v(c_1), c_1), 1/lambda)"
      ]
     },
     "metadata": {},
     "output_type": "display_data"
    },
    {
     "data": {
      "text/latex": [
       "$\\displaystyle \\frac{d}{d c_{2}} v{\\left(c_{2} \\right)} = \\frac{1}{\\lambda}$"
      ],
      "text/plain": [
       "Eq(Derivative(v(c_2), c_2), 1/lambda)"
      ]
     },
     "metadata": {},
     "output_type": "display_data"
    }
   ],
   "source": [
    "# Solve the system of equations\n",
    "solution = solve_equations(Lc_1, Lc_2, Llam, v_diff_c1, v_diff_c2)\n",
    "\n",
    "# check for a solution\n",
    "if isinstance(solution, dict):\n",
    "    for var, sol in solution.items():\n",
    "        eq = sm.Eq(var, sol)\n",
    "        display(eq)\n",
    "elif isinstance(solution, list) and solution:\n",
    "    for sol in solution:\n",
    "        display(sol)\n",
    "else:\n",
    "    print(\"No solutions found.\")"
   ]
  },
  {
   "cell_type": "markdown",
   "metadata": {},
   "source": [
    "Meaning that optimal contract includes that $c_1 = c_2$. Since $c_1 = M - \\Gamma$ can we write $c_2 = M - \\Gamma - L + K \\Leftrightarrow c_2 = c_1 - L + K \\Leftrightarrow L = c_1 - c_2 + K$ which means that $L = K$."
   ]
  },
  {
   "cell_type": "markdown",
   "metadata": {},
   "source": [
    "## Numerical solution"
   ]
  },
  {
   "cell_type": "markdown",
   "metadata": {},
   "source": [
    "You can always solve a model numerically. \n",
    "\n",
    "Define first the set of parameters you need. \n",
    "\n",
    "Then choose one of the optimization algorithms that we have gone through in the lectures based on what you think is most fitting for your model.\n",
    "\n",
    "Are there any problems with convergence? Does the model converge for all starting values? Make a lot of testing to figure these things out. "
   ]
  },
  {
   "cell_type": "code",
   "execution_count": 52,
   "metadata": {},
   "outputs": [
    {
     "name": "stdout",
     "output_type": "stream",
     "text": [
      "Optimal values:\n",
      "For pi = 0.01, K: 5.00, gamma: 0.05\n",
      "For pi = 0.11, K: 5.00, gamma: 0.56\n",
      "For pi = 0.20, K: 5.00, gamma: 1.06\n",
      "For pi = 0.30, K: 5.00, gamma: 1.56\n",
      "For pi = 0.40, K: 5.00, gamma: 2.05\n",
      "For pi = 0.49, K: 5.00, gamma: 2.54\n",
      "For pi = 0.59, K: 5.00, gamma: 3.02\n",
      "For pi = 0.69, K: 5.00, gamma: 3.50\n",
      "For pi = 0.79, K: 5.00, gamma: 3.97\n",
      "For pi = 0.88, K: 5.00, gamma: 4.44\n",
      "For pi = 0.98, K: 5.02, gamma: 4.92\n"
     ]
    }
   ],
   "source": [
    "def parameter(K, gamma, pi):\n",
    "    M = 50\n",
    "    L = 5\n",
    "    rho = 0.95\n",
    "\n",
    "    # Compute consumptions\n",
    "    c1 = M - gamma\n",
    "    c2 = M - gamma - L + K\n",
    "\n",
    "    return M, L, pi, rho, c1, c2\n",
    "\n",
    "def principal_problem(x, pi):\n",
    "    K, gamma = x\n",
    "    M, L, pi, rho, c1, c2 = parameter(K, gamma, pi)\n",
    "    return -(M - pi * L - (1 - pi) * c1 - pi * c2)\n",
    "\n",
    "def agent_utility(c, rho):\n",
    "    return c**(1 - rho) / (1 - rho)\n",
    "\n",
    "def constraint(x, pi):\n",
    "    K, gamma = x\n",
    "    M, L, pi, rho, c1, c2 = parameter(K, gamma, pi)\n",
    "    return pi * agent_utility(c2, rho) + (1 - pi) * agent_utility(c1, rho) - (pi * agent_utility(M - L, rho) + (1 - pi) * agent_utility(M, rho))\n",
    "\n",
    "def optimize_for_pi(pi_value):\n",
    "    initial_guess_K_gamma = [2, 2]  # Initial guess for K and gamma\n",
    "\n",
    "    # Define bounds for K and gamma\n",
    "    bounds = [(0, None), (0, None)]  # K >= 0, gamma >= 0\n",
    "\n",
    "    # Perform optimization with constraint\n",
    "    result = optimize.minimize(principal_problem, initial_guess_K_gamma, args=(pi_value,),\n",
    "                               method='SLSQP', bounds=bounds,\n",
    "                               constraints={'type': 'ineq', 'fun': constraint, 'args': (pi_value,)},\n",
    "                               options={'maxiter': 1000})\n",
    "\n",
    "    K, gamma = result.x\n",
    "    return K, gamma, result.success\n",
    "\n",
    "# Define a range of possible values for pi\n",
    "pi_values = np.linspace(0.01, 0.98, 11)  # e.g., 11 values from 0 to 1\n",
    "\n",
    "# Loop over all pi values and store results\n",
    "results = []\n",
    "for pi_val in pi_values:\n",
    "    K, gamma, success = optimize_for_pi(pi_val)\n",
    "    if success:\n",
    "        results.append((pi_val, K, gamma))\n",
    "    else:\n",
    "        results.append((pi_val, None, None))\n",
    "\n",
    "pi_values_t = []\n",
    "gamma_values_t = []\n",
    "K_values_t = []\n",
    "\n",
    "for res in results:\n",
    "    pi_val, K, gamma = res\n",
    "    if K is not None and gamma is not None:\n",
    "        pi_values_t.append(pi_val)\n",
    "        gamma_values_t.append(gamma)\n",
    "        K_values_t.append(K)\n",
    "\n",
    "# Print the results\n",
    "print(\"Optimal values:\")\n",
    "for res in results:\n",
    "    pi_val, K, gamma = res\n",
    "    if K is not None and gamma is not None:\n",
    "        print(f\"For pi = {pi_val:.2f}, K: {K:.2f}, gamma: {gamma:.2f}\")\n",
    "    else:\n",
    "        print(f\"For pi = {pi_val:.2f}, optimization did not converge.\")\n",
    "\n",
    "#print(results)\n"
   ]
  },
  {
   "cell_type": "code",
   "execution_count": 53,
   "metadata": {},
   "outputs": [
    {
     "data": {
      "image/png": "[encoded data removed]",
      "text/plain": [
       "<Figure size 1000x400 with 2 Axes>"
      ]
     },
     "metadata": {},
     "output_type": "display_data"
    }
   ],
   "source": [
    "fig = plt.figure(figsize=(10,4))\n",
    "\n",
    "# First subplot for gamma vs pi\n",
    "ax = fig.add_subplot(1,2,1)\n",
    "ax.plot(pi_values_t, gamma_values_t, linestyle='-')  # Make sure you have these lists ready from your results\n",
    "ax.set_xlabel('$\\pi$')\n",
    "ax.set_ylabel('$\\Gamma$')\n",
    "ax.set_title('Different $\\gamma$ for different $\\pi$')\n",
    "\n",
    "# Second subplot for K vs pi\n",
    "ax2 = fig.add_subplot(1,2,2)\n",
    "ax2.plot(pi_values_t, K_values_t, linestyle='-')  # Assuming you have these lists from your optimization results\n",
    "ax2.scatter(0.5, 5, marker='s', color='black', label='$L$')  # Example, adjust 'L' as needed\n",
    "ax2.set_xlabel('$\\pi$')\n",
    "ax2.set_ylabel('$K$')\n",
    "ax2.set_title('Different K for different $\\pi$')\n",
    "ax2.set_ylim([0, 10])\n",
    "\n",
    "# Include legend if necessary\n",
    "ax2.legend()\n",
    "\n",
    "fig.tight_layout(pad=1.0)\n",
    "plt.show()"
   ]
  },
  {
   "cell_type": "markdown",
   "metadata": {},
   "source": [
    "# Further analysis"
   ]
  },
  {
   "cell_type": "markdown",
   "metadata": {},
   "source": [
    "Make detailed vizualizations of how your model changes with parameter values. \n",
    "\n",
    "Try to make an extension of the model. "
   ]
  },
  {
   "cell_type": "code",
   "execution_count": 67,
   "metadata": {},
   "outputs": [
    {
     "name": "stdout",
     "output_type": "stream",
     "text": [
      "Optimal values:\n",
      "K: 1.00\n",
      "gamma: 1.00\n"
     ]
    }
   ],
   "source": [
    "# model med selvrisiko \n",
    "\n",
    "def parameter(K, gamma):\n",
    "    M = 50\n",
    "    L = 2\n",
    "    rho = 0.95\n",
    "    pi_s = 0.3\n",
    "    pi_f = 0.1\n",
    "    e = 1\n",
    "\n",
    "    # Compute consumptions\n",
    "    c1 = M - gamma\n",
    "    c2 = M - gamma - L + K\n",
    "\n",
    "    return M, L, rho, c1, c2, e, pi_s, pi_f\n",
    "\n",
    "def principal_problem_s(x):\n",
    "    K, gamma = x\n",
    "    M, L, rho, c1, c2, pi_s, pi_f, e = parameter(K, gamma)\n",
    "    return -(M - pi_s * L - (1 - pi_s) * c1 - pi_s * c2)\n",
    "\n",
    "def principal_problem_f(x):\n",
    "    K, gamma = x\n",
    "    M, L, rho, c1, c2, pi_s, pi_f, e = parameter(K, gamma)\n",
    "    return -(M - pi_f * L - (1 - pi_f) * c1 - pi_f * c2)\n",
    "\n",
    "\n",
    "def agent_utility(c, rho):\n",
    "    return c**(1 - rho) / (1 - rho)\n",
    "\n",
    "def constraint_s(x):\n",
    "    K, gamma = x\n",
    "    M, L, rho, c1, c2, pi_s, pi_f, e = parameter(K, gamma)\n",
    "    return pi_s * agent_utility(c2, rho) + (1 - pi_s) * agent_utility(c1, rho) - (pi_s * agent_utility(M - L, rho) + (1 - pi_s) * agent_utility(M, rho))\n",
    "\n",
    "def constraint_f(x):\n",
    "    K, gamma = x\n",
    "    M, L, rho, c1, c2, pi_s, pi_f, e = parameter(K, gamma)\n",
    "    return pi_f * agent_utility(c2, rho) + (1 - pi_f) * agent_utility(c1, rho) - e - (pi_s * agent_utility(M - L, rho) + (1 - pi_s) * agent_utility(M, rho))\n",
    "\n",
    "def constraint_ic(x):\n",
    "    K, gamma = x\n",
    "    M, L, rho, c1, c2, pi_s, pi_f, e = parameter(K, gamma)\n",
    "    return (pi_s - pi_f)*(agent_utility(c1, rho)-agent_utility(c2, rho)) - e \n",
    "    \n",
    "\n",
    "initial_guess_K_gamma = [1, 1]  # Initial guess for K and gamma\n",
    "\n",
    "# Define bounds for K and gamma\n",
    "bounds = [(0, None), (0, None)]  # K >= 0, gamma >= 0\n",
    "\n",
    "# Perform optimization with constraint\n",
    "results_s = optimize.minimize(principal_problem_s, initial_guess_K_gamma, \n",
    "                           method='SLSQP', bounds=bounds, \n",
    "                           constraints=[{'type': 'ineq', 'fun': constraint_s},{'type': 'ineq', 'fun': constraint_ic}], options={'maxiter': 1000})\n",
    "\n",
    "# Perform optimization with constraint\n",
    "results = optimize.minimize(principal_problem_f, initial_guess_K_gamma, \n",
    "                           method='SLSQP', bounds=bounds, \n",
    "                           constraints=[{'type': 'ineq', 'fun': constraint_f},{'type': 'ineq', 'fun': constraint_ic}], options={'maxiter': 1000})\n",
    "\n",
    "\n",
    "K, gamma = results_s['x']\n",
    "print(\"Optimal values:\")\n",
    "print(f\"K: {K:.2f}\")\n",
    "print(f\"gamma: {gamma:.2f}\")\n"
   ]
  },
  {
   "cell_type": "code",
   "execution_count": 54,
   "metadata": {},
   "outputs": [
    {
     "name": "stdout",
     "output_type": "stream",
     "text": [
      "Optimal values:\n",
      "K: 5.00\n",
      "gamma: 1.04\n"
     ]
    }
   ],
   "source": [
    "#første model\n",
    "def parameter(K, gamma):\n",
    "    M = 50\n",
    "    L = 5\n",
    "    pi = 0.2\n",
    "    pi_f = 0.1\n",
    "    rho = 0.95\n",
    "\n",
    "    # Compute consumptions\n",
    "    c1 = M - gamma\n",
    "    c2 = M - gamma - L + K\n",
    "\n",
    "    return M, L, pi, pi_f rho, c1, c2\n",
    "\n",
    "def principal_problem(x):\n",
    "    K, gamma = x\n",
    "    M, L, pi, rho, c1, c2 = parameter(K, gamma)\n",
    "    return -(M - pi * L - (1-pi) * c1 - pi * c2)\n",
    "\n",
    "def agent_utility(c, rho):\n",
    "    return c**(1 - rho) / (1 - rho)\n",
    "\n",
    "def constraint(x):\n",
    "    K, gamma = x\n",
    "    M, L, pi, rho, c1, c2 = parameter(K, gamma)\n",
    "    return pi * agent_utility(c2, rho) + (1-pi) * agent_utility(c1, rho) -(pi * agent_utility(M - L, rho) + (1 - pi) * agent_utility(M, rho))\n",
    "\n",
    "initial_guess_K_gamma = [2, 2]  # Initial guess for K and gamma\n",
    "\n",
    "# Define bounds for K and gamma\n",
    "bounds = [(0, None), (0, None)]  # K >= 0, gamma >= 0\n",
    "\n",
    "# Perform optimization with constraint\n",
    "result = optimize.minimize(principal_problem, initial_guess_K_gamma, method='SLSQP', bounds=bounds, constraints={'type': 'ineq', 'fun': constraint}, options={'maxiter': 1000})\n",
    "\n",
    "\n",
    "K, gamma = result['x']\n",
    "print(\"Optimal values:\")\n",
    "print(f\"K: {K:.2f}\")\n",
    "print(f\"gamma: {gamma:.2f}\")"
   ]
  },
  {
   "cell_type": "markdown",
   "metadata": {},
   "source": [
    "# Conclusion"
   ]
  },
  {
   "cell_type": "markdown",
   "metadata": {},
   "source": [
    "Add concise conclusion. "
   ]
  }
 ],
 "metadata": {
  "kernelspec": {
   "display_name": "base",
   "language": "python",
   "name": "python3"
  },
  "language_info": {
   "codemirror_mode": {
    "name": "ipython",
    "version": 3
   },
   "file_extension": ".py",
   "mimetype": "text/x-python",
   "name": "python",
   "nbconvert_exporter": "python",
   "pygments_lexer": "ipython3",
   "version": "3.11.7"
  },
  "toc-autonumbering": true,
  "vscode": {
   "interpreter": {
    "hash": "47ef90cdf3004d3f859f1fb202523c65c07ba7c22eefd261b181f4744e2d0403"
   }
  }
 },
 "nbformat": 4,
 "nbformat_minor": 4
}
