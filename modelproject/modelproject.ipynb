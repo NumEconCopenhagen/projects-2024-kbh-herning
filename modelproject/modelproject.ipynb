{
 "cells": [
  {
   "cell_type": "markdown",
   "metadata": {},
   "source": [
    "# YOUR PROJECT TITLE"
   ]
  },
  {
   "attachments": {},
   "cell_type": "markdown",
   "metadata": {},
   "source": [
    "> **Note the following:** \n",
    "> 1. This is *not* meant to be an example of an actual **model analysis project**, just an example of how to structure such a project.\n",
    "> 1. Remember the general advice on structuring and commenting your code\n",
    "> 1. The `modelproject.py` file includes a function which could be used multiple times in this notebook."
   ]
  },
  {
   "cell_type": "markdown",
   "metadata": {},
   "source": [
    "Imports and set magics:"
   ]
  },
  {
   "cell_type": "code",
   "execution_count": 1,
   "metadata": {},
   "outputs": [],
   "source": [
    "import numpy as np\n",
    "from scipy import optimize\n",
    "import sympy as sm\n",
    "\n",
    "# autoreload modules when code is run\n",
    "%load_ext autoreload\n",
    "%autoreload 2\n",
    "\n",
    "# local modules\n",
    "import modelproject"
   ]
  },
  {
   "cell_type": "markdown",
   "metadata": {},
   "source": [
    "# Model description"
   ]
  },
  {
   "cell_type": "markdown",
   "metadata": {},
   "source": [
    "# Principal Agent model for forsikring I"
   ]
  },
  {
   "cell_type": "markdown",
   "metadata": {},
   "source": [
    "**Write out the model in equations here.** \n",
    "\n",
    "Make sure you explain well the purpose of the model and comment so that other students who may not have seen it before can follow.  "
   ]
  },
  {
   "cell_type": "markdown",
   "metadata": {},
   "source": [
    "The agent is a consumer whos utility depends on consumption $c$ given by the utility function $v(c)$.  \n",
    "The agents consumption depends on income $M$ and whether or not he experiences \"accidents\". \n",
    "\n",
    "If the agent experiences accidents he loses a portion of his income denoted by $L$\n",
    "\n",
    "with probability $\\pi$ he experiences an accident and gets: \n",
    "\n",
    "$$\n",
    "c = M - L\n",
    "$$\n",
    "\n",
    "with probability $(1-\\pi)$ he does not experience accidents and gets: \n",
    "\n",
    "$$\n",
    "c = M\n",
    "$$\n",
    "\n",
    "The principal is an insurance company, that sells insurances with a price $\\Gamma$ and payment of $K$;\n",
    "\n",
    "The agent pays the price and following scenarios can happen;\n",
    "\n",
    "with probability of $\\pi$ the agent experiences an accident and loses $L$, but gets the insurance payment of $K$, Thus\n",
    "\n",
    "$$\n",
    "c = M - \\Gamma - L + K\n",
    "$$\n",
    "\n",
    "with probability 1-$\\pi$ the agent does not experience accidents and gets: \n",
    "\n",
    "$$\n",
    "c = M - \\Gamma \n",
    "$$"
   ]
  },
  {
   "cell_type": "markdown",
   "metadata": {},
   "source": [
    "The agent has two options,\n",
    "\n",
    "To sign the insurance contract with the principal, or to choose the outside option denoted by $\\overline{v}$\n",
    "\n",
    "$$\n",
    "\\overline{v} = \\pi * v(M-L) + (1-\\pi) * v(M)\n",
    "$$\n",
    "\n",
    "we assume the agent maximizes utility and we assume $v' > 0$ and $v'' < 0$,\n",
    "which means that the agent likes to consume and would like to avoid risks. \n",
    "\n",
    "We also assume that the principal maximizes expected utility. \n",
    "\n",
    "We can now write up our principal agent problem, where $\\Gamma - K$ is profit for the principal without accidents and $\\Gamma$ is the profit without accidents.\n",
    "$$\n",
    "\\max_{\\Gamma, K} \\pi * (\\Gamma - K) + (1-\\pi) * \\Gamma\\\\\n",
    "\n",
    "s.t. \\\\\n",
    "\n",
    "\n",
    "\\pi * v(M - \\Gamma - L + K) + (1 - \\pi) * v(M - \\Gamma) \\underline{>} \\overline{v}\n",
    "$$ \n",
    "\n",
    "The contraint ensures that the agents utility by accepting the insurance contract is atleast as big as the utility he gets from choosing the outside option, when the function is maximized. "
   ]
  },
  {
   "cell_type": "markdown",
   "metadata": {},
   "source": [
    "## Analytical solution"
   ]
  },
  {
   "cell_type": "markdown",
   "metadata": {},
   "source": [
    "If your model allows for an analytical solution, you should provide here.\n",
    "\n",
    "You may use Sympy for this. Then you can characterize the solution as a function of a parameter of the model.\n",
    "\n",
    "To characterize the solution, first derive a steady state equation as a function of a parameter using Sympy.solve and then turn it into a python function by Sympy.lambdify. See the lecture notes for details. "
   ]
  },
  {
   "cell_type": "markdown",
   "metadata": {},
   "source": [
    "We start by defining $c_1 = M - \\Gamma$ as consumption with out accident and $c_2 = M - \\Gamma - L + K$ as consumption with accident.\n",
    "\n",
    "Note that if we choose a particular $\\Gamma$ and $K$ we can find $c_1$ and $c_2$ directly, and vice versa if we choose a particular $c_1$ and $c_2$.\n",
    "\n",
    "There by we can expresse the principal-Agent problem as following, \n",
    "$$\n",
    "\\max_{c_1,c_2} M - \\pi \\cdot L - (1-\\pi)c_1 - \\pi c_2 \\\\\n",
    "s.t. \\\\\n",
    "\\pi \\cdot v(c_2) + (1-\\pi) \\cdot v(c_1) \\geq \\overline{v} \n",
    "$$"
   ]
  },
  {
   "cell_type": "code",
   "execution_count": 2,
   "metadata": {},
   "outputs": [],
   "source": [
    "from modelproject import define_symbols, calculate_derivatives, solve_equations\n",
    "\n",
    "# Definer symbolerne\n",
    "L, M, pi, c_1, c_2, lam, v_overline, v = define_symbols()\n",
    "\n",
    "# Beregn derivaterne og opret ligninger\n",
    "principal, condition, lagrange, Lc_1, Lc_2, Llam, v_diff_c1, v_diff_c2 = calculate_derivatives(L, M, pi, c_1, c_2, lam, v_overline, v)\n",
    "\n",
    "#passer "
   ]
  },
  {
   "cell_type": "markdown",
   "metadata": {},
   "source": [
    "1. We see that the second order condition must be binding\n",
    "$$\n",
    "\\pi \\cdot v(c_2) + (1-\\pi) \\cdot v(c_1) = \\overline{v} \n",
    "$$\n",
    "2. and then we solve the problem using lagrange."
   ]
  },
  {
   "cell_type": "code",
   "execution_count": 3,
   "metadata": {},
   "outputs": [
    {
     "name": "stdout",
     "output_type": "stream",
     "text": [
      "L = \n"
     ]
    },
    {
     "data": {
      "text/latex": [
       "$\\displaystyle - L \\pi + M - c_{1} \\cdot \\left(1 - \\pi\\right) - c_{2} \\pi + \\lambda \\left(- \\overline{v} + \\pi v{\\left(c_{2} \\right)} + \\left(1 - \\pi\\right) v{\\left(c_{1} \\right)}\\right)$"
      ],
      "text/plain": [
       "-L*pi + M - c_1*(1 - pi) - c_2*pi + lambda*(-\\overline{v} + pi*v(c_2) + (1 - pi)*v(c_1))"
      ]
     },
     "metadata": {},
     "output_type": "display_data"
    }
   ],
   "source": [
    "print('L = ')\n",
    "display(lagrange)"
   ]
  },
  {
   "cell_type": "markdown",
   "metadata": {},
   "source": [
    "Find the first order derivatives"
   ]
  },
  {
   "cell_type": "code",
   "execution_count": 4,
   "metadata": {},
   "outputs": [
    {
     "data": {
      "text/latex": [
       "$\\displaystyle 0 = \\lambda \\left(1 - \\pi\\right) \\frac{d}{d c_{1}} v{\\left(c_{1} \\right)} + \\pi - 1$"
      ],
      "text/plain": [
       "Eq(0, lambda*(1 - pi)*Derivative(v(c_1), c_1) + pi - 1)"
      ]
     },
     "metadata": {},
     "output_type": "display_data"
    },
    {
     "data": {
      "text/latex": [
       "$\\displaystyle 0 = \\lambda \\pi \\frac{d}{d c_{2}} v{\\left(c_{2} \\right)} - \\pi$"
      ],
      "text/plain": [
       "Eq(0, lambda*pi*Derivative(v(c_2), c_2) - pi)"
      ]
     },
     "metadata": {},
     "output_type": "display_data"
    },
    {
     "data": {
      "text/latex": [
       "$\\displaystyle 0 = - \\overline{v} + \\pi v{\\left(c_{2} \\right)} + \\left(1 - \\pi\\right) v{\\left(c_{1} \\right)}$"
      ],
      "text/plain": [
       "Eq(0, -\\overline{v} + pi*v(c_2) + (1 - pi)*v(c_1))"
      ]
     },
     "metadata": {},
     "output_type": "display_data"
    }
   ],
   "source": [
    "display(Lc_1)\n",
    "display(Lc_2)\n",
    "display(Llam)"
   ]
  },
  {
   "cell_type": "markdown",
   "metadata": {},
   "source": [
    "We solve for $\\frac{d}{dc_1}v(c_1)$ and $\\frac{d}{dc_2}v(c_2)$"
   ]
  },
  {
   "cell_type": "code",
   "execution_count": 5,
   "metadata": {},
   "outputs": [
    {
     "data": {
      "text/latex": [
       "$\\displaystyle \\frac{d}{d c_{1}} v{\\left(c_{1} \\right)} = \\frac{1}{\\lambda}$"
      ],
      "text/plain": [
       "Eq(Derivative(v(c_1), c_1), 1/lambda)"
      ]
     },
     "metadata": {},
     "output_type": "display_data"
    },
    {
     "data": {
      "text/latex": [
       "$\\displaystyle \\frac{d}{d c_{2}} v{\\left(c_{2} \\right)} = \\frac{1}{\\lambda}$"
      ],
      "text/plain": [
       "Eq(Derivative(v(c_2), c_2), 1/lambda)"
      ]
     },
     "metadata": {},
     "output_type": "display_data"
    }
   ],
   "source": [
    "# Solve the system of equations\n",
    "solution = solve_equations(Lc_1, Lc_2, Llam, v_diff_c1, v_diff_c2)\n",
    "\n",
    "# check for a solution\n",
    "if isinstance(solution, dict):\n",
    "    for var, sol in solution.items():\n",
    "        eq = sm.Eq(var, sol)\n",
    "        display(eq)\n",
    "elif isinstance(solution, list) and solution:\n",
    "    for sol in solution:\n",
    "        display(sol)\n",
    "else:\n",
    "    print(\"No solutions found.\")"
   ]
  },
  {
   "cell_type": "markdown",
   "metadata": {},
   "source": [
    "Meaning that optimal contract includes that $c_1 = c_2$. Since $c_1 = M - \\Gamma$ can we write $c_2 = M - \\Gamma - L + K \\Leftrightarrow c_2 = c_1 - L + K \\Leftrightarrow L = c_1 - c_2 + K$ which means that $L = K$."
   ]
  },
  {
   "cell_type": "markdown",
   "metadata": {},
   "source": [
    "## Numerical solution"
   ]
  },
  {
   "cell_type": "markdown",
   "metadata": {},
   "source": [
    "You can always solve a model numerically. \n",
    "\n",
    "Define first the set of parameters you need. \n",
    "\n",
    "Then choose one of the optimization algorithms that we have gone through in the lectures based on what you think is most fitting for your model.\n",
    "\n",
    "Are there any problems with convergence? Does the model converge for all starting values? Make a lot of testing to figure these things out. "
   ]
  },
  {
   "cell_type": "code",
   "execution_count": null,
   "metadata": {},
   "outputs": [],
   "source": [
    "def parameter():\n",
    "    M = 5\n",
    "    gamma = []\n",
    "    K = []\n",
    "    L = 2\n",
    "    par.c1 = M - gamma\n",
    "    par.c2 = M - gamma - L + K \n",
    "    pi = 0.3\n",
    "    rho = 0.95\n",
    "\n",
    "\n",
    "def agent_utility(c,rho): #we definere a utility function which is CRRA according to your definition of v\n",
    "    return c**(1 - rho) / (1 - rho)\n",
    "\n",
    "def outside_obs(M, L, pi): #expected_consumption\n",
    "    \"\"\"Beregner det forventede forbrug givet indkomst M, tab L og sandsynligheden pi for tab.\"\"\"\n",
    "    return pi * agent_utility(M-L,rho) + (1 - pi) * agent_utility(M,rho)"
   ]
  },
  {
   "cell_type": "code",
   "execution_count": 54,
   "metadata": {},
   "outputs": [
    {
     "ename": "TypeError",
     "evalue": "principal_problem() takes 0 positional arguments but 1 was given",
     "output_type": "error",
     "traceback": [
      "\u001b[1;31m---------------------------------------------------------------------------\u001b[0m",
      "\u001b[1;31mTypeError\u001b[0m                                 Traceback (most recent call last)",
      "Cell \u001b[1;32mIn[54], line 31\u001b[0m\n\u001b[0;32m     27\u001b[0m     \u001b[38;5;28;01mreturn\u001b[39;00m \u001b[38;5;241m-\u001b[39m(pi \u001b[38;5;241m*\u001b[39m agent_utility(M \u001b[38;5;241m-\u001b[39m L, rho) \u001b[38;5;241m+\u001b[39m (\u001b[38;5;241m1\u001b[39m \u001b[38;5;241m-\u001b[39m pi) \u001b[38;5;241m*\u001b[39m agent_utility(M, rho))\n\u001b[0;32m     29\u001b[0m initial_guess_K \u001b[38;5;241m=\u001b[39m [\u001b[38;5;241m2\u001b[39m]\n\u001b[1;32m---> 31\u001b[0m result \u001b[38;5;241m=\u001b[39m optimize\u001b[38;5;241m.\u001b[39mminimize(principal_problem, initial_guess_K, method\u001b[38;5;241m=\u001b[39m\u001b[38;5;124m'\u001b[39m\u001b[38;5;124mBFGS\u001b[39m\u001b[38;5;124m'\u001b[39m)\n\u001b[0;32m     32\u001b[0m \u001b[38;5;28mprint\u001b[39m(result)\n",
      "File \u001b[1;32mc:\\Users\\marcu\\anaconda3\\Lib\\site-packages\\scipy\\optimize\\_minimize.py:705\u001b[0m, in \u001b[0;36mminimize\u001b[1;34m(fun, x0, args, method, jac, hess, hessp, bounds, constraints, tol, callback, options)\u001b[0m\n\u001b[0;32m    703\u001b[0m     res \u001b[38;5;241m=\u001b[39m _minimize_cg(fun, x0, args, jac, callback, \u001b[38;5;241m*\u001b[39m\u001b[38;5;241m*\u001b[39moptions)\n\u001b[0;32m    704\u001b[0m \u001b[38;5;28;01melif\u001b[39;00m meth \u001b[38;5;241m==\u001b[39m \u001b[38;5;124m'\u001b[39m\u001b[38;5;124mbfgs\u001b[39m\u001b[38;5;124m'\u001b[39m:\n\u001b[1;32m--> 705\u001b[0m     res \u001b[38;5;241m=\u001b[39m _minimize_bfgs(fun, x0, args, jac, callback, \u001b[38;5;241m*\u001b[39m\u001b[38;5;241m*\u001b[39moptions)\n\u001b[0;32m    706\u001b[0m \u001b[38;5;28;01melif\u001b[39;00m meth \u001b[38;5;241m==\u001b[39m \u001b[38;5;124m'\u001b[39m\u001b[38;5;124mnewton-cg\u001b[39m\u001b[38;5;124m'\u001b[39m:\n\u001b[0;32m    707\u001b[0m     res \u001b[38;5;241m=\u001b[39m _minimize_newtoncg(fun, x0, args, jac, hess, hessp, callback,\n\u001b[0;32m    708\u001b[0m                              \u001b[38;5;241m*\u001b[39m\u001b[38;5;241m*\u001b[39moptions)\n",
      "File \u001b[1;32mc:\\Users\\marcu\\anaconda3\\Lib\\site-packages\\scipy\\optimize\\_optimize.py:1419\u001b[0m, in \u001b[0;36m_minimize_bfgs\u001b[1;34m(fun, x0, args, jac, callback, gtol, norm, eps, maxiter, disp, return_all, finite_diff_rel_step, xrtol, **unknown_options)\u001b[0m\n\u001b[0;32m   1416\u001b[0m \u001b[38;5;28;01mif\u001b[39;00m maxiter \u001b[38;5;129;01mis\u001b[39;00m \u001b[38;5;28;01mNone\u001b[39;00m:\n\u001b[0;32m   1417\u001b[0m     maxiter \u001b[38;5;241m=\u001b[39m \u001b[38;5;28mlen\u001b[39m(x0) \u001b[38;5;241m*\u001b[39m \u001b[38;5;241m200\u001b[39m\n\u001b[1;32m-> 1419\u001b[0m sf \u001b[38;5;241m=\u001b[39m _prepare_scalar_function(fun, x0, jac, args\u001b[38;5;241m=\u001b[39margs, epsilon\u001b[38;5;241m=\u001b[39meps,\n\u001b[0;32m   1420\u001b[0m                               finite_diff_rel_step\u001b[38;5;241m=\u001b[39mfinite_diff_rel_step)\n\u001b[0;32m   1422\u001b[0m f \u001b[38;5;241m=\u001b[39m sf\u001b[38;5;241m.\u001b[39mfun\n\u001b[0;32m   1423\u001b[0m myfprime \u001b[38;5;241m=\u001b[39m sf\u001b[38;5;241m.\u001b[39mgrad\n",
      "File \u001b[1;32mc:\\Users\\marcu\\anaconda3\\Lib\\site-packages\\scipy\\optimize\\_optimize.py:383\u001b[0m, in \u001b[0;36m_prepare_scalar_function\u001b[1;34m(fun, x0, jac, args, bounds, epsilon, finite_diff_rel_step, hess)\u001b[0m\n\u001b[0;32m    379\u001b[0m     bounds \u001b[38;5;241m=\u001b[39m (\u001b[38;5;241m-\u001b[39mnp\u001b[38;5;241m.\u001b[39minf, np\u001b[38;5;241m.\u001b[39minf)\n\u001b[0;32m    381\u001b[0m \u001b[38;5;66;03m# ScalarFunction caches. Reuse of fun(x) during grad\u001b[39;00m\n\u001b[0;32m    382\u001b[0m \u001b[38;5;66;03m# calculation reduces overall function evaluations.\u001b[39;00m\n\u001b[1;32m--> 383\u001b[0m sf \u001b[38;5;241m=\u001b[39m ScalarFunction(fun, x0, args, grad, hess,\n\u001b[0;32m    384\u001b[0m                     finite_diff_rel_step, bounds, epsilon\u001b[38;5;241m=\u001b[39mepsilon)\n\u001b[0;32m    386\u001b[0m \u001b[38;5;28;01mreturn\u001b[39;00m sf\n",
      "File \u001b[1;32mc:\\Users\\marcu\\anaconda3\\Lib\\site-packages\\scipy\\optimize\\_differentiable_functions.py:158\u001b[0m, in \u001b[0;36mScalarFunction.__init__\u001b[1;34m(self, fun, x0, args, grad, hess, finite_diff_rel_step, finite_diff_bounds, epsilon)\u001b[0m\n\u001b[0;32m    155\u001b[0m     \u001b[38;5;28mself\u001b[39m\u001b[38;5;241m.\u001b[39mf \u001b[38;5;241m=\u001b[39m fun_wrapped(\u001b[38;5;28mself\u001b[39m\u001b[38;5;241m.\u001b[39mx)\n\u001b[0;32m    157\u001b[0m \u001b[38;5;28mself\u001b[39m\u001b[38;5;241m.\u001b[39m_update_fun_impl \u001b[38;5;241m=\u001b[39m update_fun\n\u001b[1;32m--> 158\u001b[0m \u001b[38;5;28mself\u001b[39m\u001b[38;5;241m.\u001b[39m_update_fun()\n\u001b[0;32m    160\u001b[0m \u001b[38;5;66;03m# Gradient evaluation\u001b[39;00m\n\u001b[0;32m    161\u001b[0m \u001b[38;5;28;01mif\u001b[39;00m \u001b[38;5;28mcallable\u001b[39m(grad):\n",
      "File \u001b[1;32mc:\\Users\\marcu\\anaconda3\\Lib\\site-packages\\scipy\\optimize\\_differentiable_functions.py:251\u001b[0m, in \u001b[0;36mScalarFunction._update_fun\u001b[1;34m(self)\u001b[0m\n\u001b[0;32m    249\u001b[0m \u001b[38;5;28;01mdef\u001b[39;00m \u001b[38;5;21m_update_fun\u001b[39m(\u001b[38;5;28mself\u001b[39m):\n\u001b[0;32m    250\u001b[0m     \u001b[38;5;28;01mif\u001b[39;00m \u001b[38;5;129;01mnot\u001b[39;00m \u001b[38;5;28mself\u001b[39m\u001b[38;5;241m.\u001b[39mf_updated:\n\u001b[1;32m--> 251\u001b[0m         \u001b[38;5;28mself\u001b[39m\u001b[38;5;241m.\u001b[39m_update_fun_impl()\n\u001b[0;32m    252\u001b[0m         \u001b[38;5;28mself\u001b[39m\u001b[38;5;241m.\u001b[39mf_updated \u001b[38;5;241m=\u001b[39m \u001b[38;5;28;01mTrue\u001b[39;00m\n",
      "File \u001b[1;32mc:\\Users\\marcu\\anaconda3\\Lib\\site-packages\\scipy\\optimize\\_differentiable_functions.py:155\u001b[0m, in \u001b[0;36mScalarFunction.__init__.<locals>.update_fun\u001b[1;34m()\u001b[0m\n\u001b[0;32m    154\u001b[0m \u001b[38;5;28;01mdef\u001b[39;00m \u001b[38;5;21mupdate_fun\u001b[39m():\n\u001b[1;32m--> 155\u001b[0m     \u001b[38;5;28mself\u001b[39m\u001b[38;5;241m.\u001b[39mf \u001b[38;5;241m=\u001b[39m fun_wrapped(\u001b[38;5;28mself\u001b[39m\u001b[38;5;241m.\u001b[39mx)\n",
      "File \u001b[1;32mc:\\Users\\marcu\\anaconda3\\Lib\\site-packages\\scipy\\optimize\\_differentiable_functions.py:137\u001b[0m, in \u001b[0;36mScalarFunction.__init__.<locals>.fun_wrapped\u001b[1;34m(x)\u001b[0m\n\u001b[0;32m    133\u001b[0m \u001b[38;5;28mself\u001b[39m\u001b[38;5;241m.\u001b[39mnfev \u001b[38;5;241m+\u001b[39m\u001b[38;5;241m=\u001b[39m \u001b[38;5;241m1\u001b[39m\n\u001b[0;32m    134\u001b[0m \u001b[38;5;66;03m# Send a copy because the user may overwrite it.\u001b[39;00m\n\u001b[0;32m    135\u001b[0m \u001b[38;5;66;03m# Overwriting results in undefined behaviour because\u001b[39;00m\n\u001b[0;32m    136\u001b[0m \u001b[38;5;66;03m# fun(self.x) will change self.x, with the two no longer linked.\u001b[39;00m\n\u001b[1;32m--> 137\u001b[0m fx \u001b[38;5;241m=\u001b[39m fun(np\u001b[38;5;241m.\u001b[39mcopy(x), \u001b[38;5;241m*\u001b[39margs)\n\u001b[0;32m    138\u001b[0m \u001b[38;5;66;03m# Make sure the function returns a true scalar\u001b[39;00m\n\u001b[0;32m    139\u001b[0m \u001b[38;5;28;01mif\u001b[39;00m \u001b[38;5;129;01mnot\u001b[39;00m np\u001b[38;5;241m.\u001b[39misscalar(fx):\n",
      "\u001b[1;31mTypeError\u001b[0m: principal_problem() takes 0 positional arguments but 1 was given"
     ]
    }
   ],
   "source": [
    "def parameter(K=0.5):\n",
    "    M = 5\n",
    "    # Assume gamma and K are defined as scalar values here for now\n",
    "    gamma = 2  # Example value, should be defined appropriately\n",
    "    #K = []      # Example value, should be defined appropriately\n",
    "    L = 2\n",
    "    pi = 0.3\n",
    "    rho = 0.95\n",
    "\n",
    "    # Compute consumptions\n",
    "    c1 = M - gamma\n",
    "    c2 = M - gamma - L + K\n",
    "\n",
    "    return M, L, pi, rho, c1, c2\n",
    "\n",
    "def principal_problem():\n",
    "    return M - pi * L - (1-pi) * c1 - pi * c2 \n",
    "\n",
    "def utility(c, rho):\n",
    "    return c**(1 - rho) / (1 - rho)\n",
    "\n",
    "def constraint(c1,c2,rho):\n",
    "    pi * utility(c2,rho) + (1-pi) * utility(c1,rho)\n",
    "\n",
    "def outside_option(M, L, pi, rho):\n",
    "    \"\"\"Calculate expected utility given income M, loss L, and the probability pi of loss.\"\"\"\n",
    "    return -(pi * agent_utility(M - L, rho) + (1 - pi) * agent_utility(M, rho))\n",
    "\n",
    "initial_guess_K = [2]\n",
    "\n",
    "result = optimize.minimize(principal_problem, initial_guess_K, method='BFGS')\n",
    "print(result)\n",
    "\n",
    "\n",
    "# Example usage:\n",
    "#M, L, pi, rho, c1, c2 = parameter()  # Initialize parameters\n",
    "#utility_c1 = agent_utility(c1, rho)  # Utility of consumption c1\n",
    "#utility_c2 = agent_utility(c2, rho)  # Utility of consumption c2\n",
    "#expected_util = expected_consumption(M, L, pi, rho)  # Expected utility\n",
    "\n",
    "#print(\"Utility of c1:\", utility_c1)\n",
    "#print(\"Utility of c2:\", utility_c2)\n",
    "#print(\"Expected utility:\", expected_util)"
   ]
  },
  {
   "cell_type": "code",
   "execution_count": 52,
   "metadata": {},
   "outputs": [
    {
     "ename": "NameError",
     "evalue": "name 'gamma' is not defined",
     "output_type": "error",
     "traceback": [
      "\u001b[1;31m---------------------------------------------------------------------------\u001b[0m",
      "\u001b[1;31mNameError\u001b[0m                                 Traceback (most recent call last)",
      "Cell \u001b[1;32mIn[52], line 31\u001b[0m\n\u001b[0;32m     28\u001b[0m     result \u001b[38;5;241m=\u001b[39m optimize\u001b[38;5;241m.\u001b[39mminimize(principal_problem, initial_guess_K, args\u001b[38;5;241m=\u001b[39m(M, L, pi, c1), method\u001b[38;5;241m=\u001b[39m\u001b[38;5;124m'\u001b[39m\u001b[38;5;124mBFGS\u001b[39m\u001b[38;5;124m'\u001b[39m)\n\u001b[0;32m     29\u001b[0m     \u001b[38;5;28;01mreturn\u001b[39;00m result\n\u001b[1;32m---> 31\u001b[0m result \u001b[38;5;241m=\u001b[39m optimize_principal()\n\u001b[0;32m     32\u001b[0m \u001b[38;5;28mprint\u001b[39m(\u001b[38;5;124m\"\u001b[39m\u001b[38;5;124mOptimization result:\u001b[39m\u001b[38;5;124m\"\u001b[39m, result)\n",
      "Cell \u001b[1;32mIn[52], line 28\u001b[0m, in \u001b[0;36moptimize_principal\u001b[1;34m()\u001b[0m\n\u001b[0;32m     26\u001b[0m M, L, pi, rho, c1, _ \u001b[38;5;241m=\u001b[39m parameter()\n\u001b[0;32m     27\u001b[0m initial_guess_K \u001b[38;5;241m=\u001b[39m [\u001b[38;5;241m0\u001b[39m]  \u001b[38;5;66;03m# Assuming K starts from 0\u001b[39;00m\n\u001b[1;32m---> 28\u001b[0m result \u001b[38;5;241m=\u001b[39m optimize\u001b[38;5;241m.\u001b[39mminimize(principal_problem, initial_guess_K, args\u001b[38;5;241m=\u001b[39m(M, L, pi, c1), method\u001b[38;5;241m=\u001b[39m\u001b[38;5;124m'\u001b[39m\u001b[38;5;124mBFGS\u001b[39m\u001b[38;5;124m'\u001b[39m)\n\u001b[0;32m     29\u001b[0m \u001b[38;5;28;01mreturn\u001b[39;00m result\n",
      "File \u001b[1;32mc:\\Users\\marcu\\anaconda3\\Lib\\site-packages\\scipy\\optimize\\_minimize.py:705\u001b[0m, in \u001b[0;36mminimize\u001b[1;34m(fun, x0, args, method, jac, hess, hessp, bounds, constraints, tol, callback, options)\u001b[0m\n\u001b[0;32m    703\u001b[0m     res \u001b[38;5;241m=\u001b[39m _minimize_cg(fun, x0, args, jac, callback, \u001b[38;5;241m*\u001b[39m\u001b[38;5;241m*\u001b[39moptions)\n\u001b[0;32m    704\u001b[0m \u001b[38;5;28;01melif\u001b[39;00m meth \u001b[38;5;241m==\u001b[39m \u001b[38;5;124m'\u001b[39m\u001b[38;5;124mbfgs\u001b[39m\u001b[38;5;124m'\u001b[39m:\n\u001b[1;32m--> 705\u001b[0m     res \u001b[38;5;241m=\u001b[39m _minimize_bfgs(fun, x0, args, jac, callback, \u001b[38;5;241m*\u001b[39m\u001b[38;5;241m*\u001b[39moptions)\n\u001b[0;32m    706\u001b[0m \u001b[38;5;28;01melif\u001b[39;00m meth \u001b[38;5;241m==\u001b[39m \u001b[38;5;124m'\u001b[39m\u001b[38;5;124mnewton-cg\u001b[39m\u001b[38;5;124m'\u001b[39m:\n\u001b[0;32m    707\u001b[0m     res \u001b[38;5;241m=\u001b[39m _minimize_newtoncg(fun, x0, args, jac, hess, hessp, callback,\n\u001b[0;32m    708\u001b[0m                              \u001b[38;5;241m*\u001b[39m\u001b[38;5;241m*\u001b[39moptions)\n",
      "File \u001b[1;32mc:\\Users\\marcu\\anaconda3\\Lib\\site-packages\\scipy\\optimize\\_optimize.py:1419\u001b[0m, in \u001b[0;36m_minimize_bfgs\u001b[1;34m(fun, x0, args, jac, callback, gtol, norm, eps, maxiter, disp, return_all, finite_diff_rel_step, xrtol, **unknown_options)\u001b[0m\n\u001b[0;32m   1416\u001b[0m \u001b[38;5;28;01mif\u001b[39;00m maxiter \u001b[38;5;129;01mis\u001b[39;00m \u001b[38;5;28;01mNone\u001b[39;00m:\n\u001b[0;32m   1417\u001b[0m     maxiter \u001b[38;5;241m=\u001b[39m \u001b[38;5;28mlen\u001b[39m(x0) \u001b[38;5;241m*\u001b[39m \u001b[38;5;241m200\u001b[39m\n\u001b[1;32m-> 1419\u001b[0m sf \u001b[38;5;241m=\u001b[39m _prepare_scalar_function(fun, x0, jac, args\u001b[38;5;241m=\u001b[39margs, epsilon\u001b[38;5;241m=\u001b[39meps,\n\u001b[0;32m   1420\u001b[0m                               finite_diff_rel_step\u001b[38;5;241m=\u001b[39mfinite_diff_rel_step)\n\u001b[0;32m   1422\u001b[0m f \u001b[38;5;241m=\u001b[39m sf\u001b[38;5;241m.\u001b[39mfun\n\u001b[0;32m   1423\u001b[0m myfprime \u001b[38;5;241m=\u001b[39m sf\u001b[38;5;241m.\u001b[39mgrad\n",
      "File \u001b[1;32mc:\\Users\\marcu\\anaconda3\\Lib\\site-packages\\scipy\\optimize\\_optimize.py:383\u001b[0m, in \u001b[0;36m_prepare_scalar_function\u001b[1;34m(fun, x0, jac, args, bounds, epsilon, finite_diff_rel_step, hess)\u001b[0m\n\u001b[0;32m    379\u001b[0m     bounds \u001b[38;5;241m=\u001b[39m (\u001b[38;5;241m-\u001b[39mnp\u001b[38;5;241m.\u001b[39minf, np\u001b[38;5;241m.\u001b[39minf)\n\u001b[0;32m    381\u001b[0m \u001b[38;5;66;03m# ScalarFunction caches. Reuse of fun(x) during grad\u001b[39;00m\n\u001b[0;32m    382\u001b[0m \u001b[38;5;66;03m# calculation reduces overall function evaluations.\u001b[39;00m\n\u001b[1;32m--> 383\u001b[0m sf \u001b[38;5;241m=\u001b[39m ScalarFunction(fun, x0, args, grad, hess,\n\u001b[0;32m    384\u001b[0m                     finite_diff_rel_step, bounds, epsilon\u001b[38;5;241m=\u001b[39mepsilon)\n\u001b[0;32m    386\u001b[0m \u001b[38;5;28;01mreturn\u001b[39;00m sf\n",
      "File \u001b[1;32mc:\\Users\\marcu\\anaconda3\\Lib\\site-packages\\scipy\\optimize\\_differentiable_functions.py:158\u001b[0m, in \u001b[0;36mScalarFunction.__init__\u001b[1;34m(self, fun, x0, args, grad, hess, finite_diff_rel_step, finite_diff_bounds, epsilon)\u001b[0m\n\u001b[0;32m    155\u001b[0m     \u001b[38;5;28mself\u001b[39m\u001b[38;5;241m.\u001b[39mf \u001b[38;5;241m=\u001b[39m fun_wrapped(\u001b[38;5;28mself\u001b[39m\u001b[38;5;241m.\u001b[39mx)\n\u001b[0;32m    157\u001b[0m \u001b[38;5;28mself\u001b[39m\u001b[38;5;241m.\u001b[39m_update_fun_impl \u001b[38;5;241m=\u001b[39m update_fun\n\u001b[1;32m--> 158\u001b[0m \u001b[38;5;28mself\u001b[39m\u001b[38;5;241m.\u001b[39m_update_fun()\n\u001b[0;32m    160\u001b[0m \u001b[38;5;66;03m# Gradient evaluation\u001b[39;00m\n\u001b[0;32m    161\u001b[0m \u001b[38;5;28;01mif\u001b[39;00m \u001b[38;5;28mcallable\u001b[39m(grad):\n",
      "File \u001b[1;32mc:\\Users\\marcu\\anaconda3\\Lib\\site-packages\\scipy\\optimize\\_differentiable_functions.py:251\u001b[0m, in \u001b[0;36mScalarFunction._update_fun\u001b[1;34m(self)\u001b[0m\n\u001b[0;32m    249\u001b[0m \u001b[38;5;28;01mdef\u001b[39;00m \u001b[38;5;21m_update_fun\u001b[39m(\u001b[38;5;28mself\u001b[39m):\n\u001b[0;32m    250\u001b[0m     \u001b[38;5;28;01mif\u001b[39;00m \u001b[38;5;129;01mnot\u001b[39;00m \u001b[38;5;28mself\u001b[39m\u001b[38;5;241m.\u001b[39mf_updated:\n\u001b[1;32m--> 251\u001b[0m         \u001b[38;5;28mself\u001b[39m\u001b[38;5;241m.\u001b[39m_update_fun_impl()\n\u001b[0;32m    252\u001b[0m         \u001b[38;5;28mself\u001b[39m\u001b[38;5;241m.\u001b[39mf_updated \u001b[38;5;241m=\u001b[39m \u001b[38;5;28;01mTrue\u001b[39;00m\n",
      "File \u001b[1;32mc:\\Users\\marcu\\anaconda3\\Lib\\site-packages\\scipy\\optimize\\_differentiable_functions.py:155\u001b[0m, in \u001b[0;36mScalarFunction.__init__.<locals>.update_fun\u001b[1;34m()\u001b[0m\n\u001b[0;32m    154\u001b[0m \u001b[38;5;28;01mdef\u001b[39;00m \u001b[38;5;21mupdate_fun\u001b[39m():\n\u001b[1;32m--> 155\u001b[0m     \u001b[38;5;28mself\u001b[39m\u001b[38;5;241m.\u001b[39mf \u001b[38;5;241m=\u001b[39m fun_wrapped(\u001b[38;5;28mself\u001b[39m\u001b[38;5;241m.\u001b[39mx)\n",
      "File \u001b[1;32mc:\\Users\\marcu\\anaconda3\\Lib\\site-packages\\scipy\\optimize\\_differentiable_functions.py:137\u001b[0m, in \u001b[0;36mScalarFunction.__init__.<locals>.fun_wrapped\u001b[1;34m(x)\u001b[0m\n\u001b[0;32m    133\u001b[0m \u001b[38;5;28mself\u001b[39m\u001b[38;5;241m.\u001b[39mnfev \u001b[38;5;241m+\u001b[39m\u001b[38;5;241m=\u001b[39m \u001b[38;5;241m1\u001b[39m\n\u001b[0;32m    134\u001b[0m \u001b[38;5;66;03m# Send a copy because the user may overwrite it.\u001b[39;00m\n\u001b[0;32m    135\u001b[0m \u001b[38;5;66;03m# Overwriting results in undefined behaviour because\u001b[39;00m\n\u001b[0;32m    136\u001b[0m \u001b[38;5;66;03m# fun(self.x) will change self.x, with the two no longer linked.\u001b[39;00m\n\u001b[1;32m--> 137\u001b[0m fx \u001b[38;5;241m=\u001b[39m fun(np\u001b[38;5;241m.\u001b[39mcopy(x), \u001b[38;5;241m*\u001b[39margs)\n\u001b[0;32m    138\u001b[0m \u001b[38;5;66;03m# Make sure the function returns a true scalar\u001b[39;00m\n\u001b[0;32m    139\u001b[0m \u001b[38;5;28;01mif\u001b[39;00m \u001b[38;5;129;01mnot\u001b[39;00m np\u001b[38;5;241m.\u001b[39misscalar(fx):\n",
      "Cell \u001b[1;32mIn[52], line 14\u001b[0m, in \u001b[0;36mprincipal_problem\u001b[1;34m(K, M, L, pi, c1)\u001b[0m\n\u001b[0;32m     13\u001b[0m \u001b[38;5;28;01mdef\u001b[39;00m \u001b[38;5;21mprincipal_problem\u001b[39m(K, M, L, pi, c1):\n\u001b[1;32m---> 14\u001b[0m     c2 \u001b[38;5;241m=\u001b[39m M \u001b[38;5;241m-\u001b[39m gamma \u001b[38;5;241m-\u001b[39m L \u001b[38;5;241m+\u001b[39m K\n\u001b[0;32m     15\u001b[0m     \u001b[38;5;28;01mreturn\u001b[39;00m \u001b[38;5;241m-\u001b[39m(M \u001b[38;5;241m-\u001b[39m pi \u001b[38;5;241m*\u001b[39m L \u001b[38;5;241m-\u001b[39m (\u001b[38;5;241m1\u001b[39m\u001b[38;5;241m-\u001b[39mpi) \u001b[38;5;241m*\u001b[39m c1 \u001b[38;5;241m-\u001b[39m pi \u001b[38;5;241m*\u001b[39m c2)\n",
      "\u001b[1;31mNameError\u001b[0m: name 'gamma' is not defined"
     ]
    }
   ],
   "source": [
    "from scipy import optimize\n",
    "\n",
    "def parameter(K=0.2):\n",
    "    gamma=2\n",
    "    M = 5\n",
    "    L = 2\n",
    "    pi = 0.3\n",
    "    rho = 0.95\n",
    "    c1 = M - gamma\n",
    "    c2 = M - gamma - L + K\n",
    "    return M, L, pi, rho, c1, c2\n",
    "\n",
    "def principal_problem(K, M, L, pi, c1):\n",
    "    c2 = M - gamma - L + K\n",
    "    return -(M - pi * L - (1-pi) * c1 - pi * c2)  # Negative for maximization\n",
    "\n",
    "def utility(c, rho):\n",
    "    if c <= 0:\n",
    "        return float('-inf')  # Avoid log of zero or negative numbers if rho == 1\n",
    "    return c**(1 - rho) / (1 - rho)\n",
    "\n",
    "def constraint(c1, c2, pi, rho):\n",
    "    return pi * utility(c2, rho) + (1-pi) * utility(c1, rho)\n",
    "\n",
    "def optimize_principal():\n",
    "    M, L, pi, rho, c1, _ = parameter()\n",
    "    initial_guess_K = [0]  # Assuming K starts from 0\n",
    "    result = optimize.minimize(principal_problem, initial_guess_K, args=(M, L, pi, c1), method='BFGS')\n",
    "    return result\n",
    "\n",
    "result = optimize_principal()\n",
    "print(\"Optimization result:\", result)"
   ]
  },
  {
   "cell_type": "markdown",
   "metadata": {},
   "source": [
    "# Further analysis"
   ]
  },
  {
   "cell_type": "markdown",
   "metadata": {},
   "source": [
    "Make detailed vizualizations of how your model changes with parameter values. \n",
    "\n",
    "Try to make an extension of the model. "
   ]
  },
  {
   "cell_type": "markdown",
   "metadata": {},
   "source": [
    "# Conclusion"
   ]
  },
  {
   "cell_type": "markdown",
   "metadata": {},
   "source": [
    "Add concise conclusion. "
   ]
  }
 ],
 "metadata": {
  "kernelspec": {
   "display_name": "base",
   "language": "python",
   "name": "python3"
  },
  "language_info": {
   "codemirror_mode": {
    "name": "ipython",
    "version": 3
   },
   "file_extension": ".py",
   "mimetype": "text/x-python",
   "name": "python",
   "nbconvert_exporter": "python",
   "pygments_lexer": "ipython3",
   "version": "3.11.7"
  },
  "toc-autonumbering": true,
  "vscode": {
   "interpreter": {
    "hash": "47ef90cdf3004d3f859f1fb202523c65c07ba7c22eefd261b181f4744e2d0403"
   }
  }
 },
 "nbformat": 4,
 "nbformat_minor": 4
}
