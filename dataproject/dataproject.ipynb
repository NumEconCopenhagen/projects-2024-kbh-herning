{
 "cells": [
  {
   "cell_type": "markdown",
   "metadata": {},
   "source": [
    "# YOUR PROJECT TITLE"
   ]
  },
  {
   "attachments": {},
   "cell_type": "markdown",
   "metadata": {},
   "source": [
    "> **Note the following:** \n",
    "> 1. This is *not* meant to be an example of an actual **data analysis project**, just an example of how to structure such a project.\n",
    "> 1. Remember the general advice on structuring and commenting your code\n",
    "> 1. The `dataproject.py` file includes a function which can be used multiple times in this notebook."
   ]
  },
  {
   "cell_type": "markdown",
   "metadata": {},
   "source": [
    "Imports and set magics:"
   ]
  },
  {
   "cell_type": "code",
   "execution_count": 83,
   "metadata": {},
   "outputs": [
    {
     "name": "stdout",
     "output_type": "stream",
     "text": [
      "The autoreload extension is already loaded. To reload it, use:\n",
      "  %reload_ext autoreload\n",
      "Requirement already satisfied: pandas-datareader in c:\\users\\marcu\\anaconda3\\lib\\site-packages (0.10.0)\n",
      "Requirement already satisfied: lxml in c:\\users\\marcu\\anaconda3\\lib\\site-packages (from pandas-datareader) (4.9.3)\n",
      "Requirement already satisfied: pandas>=0.23 in c:\\users\\marcu\\anaconda3\\lib\\site-packages (from pandas-datareader) (2.1.4)\n",
      "Requirement already satisfied: requests>=2.19.0 in c:\\users\\marcu\\anaconda3\\lib\\site-packages (from pandas-datareader) (2.31.0)\n",
      "Requirement already satisfied: numpy<2,>=1.23.2 in c:\\users\\marcu\\anaconda3\\lib\\site-packages (from pandas>=0.23->pandas-datareader) (1.26.3)\n",
      "Requirement already satisfied: python-dateutil>=2.8.2 in c:\\users\\marcu\\anaconda3\\lib\\site-packages (from pandas>=0.23->pandas-datareader) (2.8.2)\n",
      "Requirement already satisfied: pytz>=2020.1 in c:\\users\\marcu\\anaconda3\\lib\\site-packages (from pandas>=0.23->pandas-datareader) (2023.3.post1)\n",
      "Requirement already satisfied: tzdata>=2022.1 in c:\\users\\marcu\\anaconda3\\lib\\site-packages (from pandas>=0.23->pandas-datareader) (2023.3)\n",
      "Requirement already satisfied: charset-normalizer<4,>=2 in c:\\users\\marcu\\anaconda3\\lib\\site-packages (from requests>=2.19.0->pandas-datareader) (2.0.4)\n",
      "Requirement already satisfied: idna<4,>=2.5 in c:\\users\\marcu\\anaconda3\\lib\\site-packages (from requests>=2.19.0->pandas-datareader) (3.4)\n",
      "Requirement already satisfied: urllib3<3,>=1.21.1 in c:\\users\\marcu\\anaconda3\\lib\\site-packages (from requests>=2.19.0->pandas-datareader) (2.0.7)\n",
      "Requirement already satisfied: certifi>=2017.4.17 in c:\\users\\marcu\\anaconda3\\lib\\site-packages (from requests>=2.19.0->pandas-datareader) (2024.2.2)\n",
      "Requirement already satisfied: six>=1.5 in c:\\users\\marcu\\anaconda3\\lib\\site-packages (from python-dateutil>=2.8.2->pandas>=0.23->pandas-datareader) (1.16.0)\n",
      "Note: you may need to restart the kernel to use updated packages.\n"
     ]
    }
   ],
   "source": [
    "import pandas as pd\n",
    "import numpy as np\n",
    "import matplotlib.pyplot as plt\n",
    "import ipywidgets as widgets\n",
    "from matplotlib_venn import venn2\n",
    "from scipy import stats\n",
    "\n",
    "\n",
    "# autoreload modules when code is run\n",
    "%load_ext autoreload\n",
    "%autoreload 2\n",
    "%pip install pandas-datareader\n",
    "\n",
    "# user written modules\n",
    "import dataproject\n",
    "\n",
    "import pandas_datareader \n",
    "import datetime\n"
   ]
  },
  {
   "cell_type": "markdown",
   "metadata": {},
   "source": [
    "# Read and clean data"
   ]
  },
  {
   "cell_type": "markdown",
   "metadata": {},
   "source": [
    "Import your data, either through an API or manually, and load it. "
   ]
  },
  {
   "cell_type": "code",
   "execution_count": 85,
   "metadata": {},
   "outputs": [],
   "source": [
    "#Name/link to data in FRED \n",
    "\n",
    "#CPI data (Growth rate previous period, Not Seasonally Adjusted)\n",
    "CPI_CAN = 'CPALTT01CAA657N'\n",
    "CPI_USA = 'CPALTT01USA659N'\n",
    "CPI_UK = 'CPALTT01GBA659N'\n",
    "\n",
    "# Exchange rate \n",
    "EX_CAN = 'AEXCAUS' #(Canadian Dollars to One U.S. Dollar, Not Seasonally Adjusted)\n",
    "EX_UK = 'AEXUSUK' #(U.S. Dollars to One U.K. Pound Sterling, Not Seasonally Adjusted)\n",
    "\n"
   ]
  },
  {
   "cell_type": "code",
   "execution_count": 86,
   "metadata": {},
   "outputs": [
    {
     "name": "stdout",
     "output_type": "stream",
     "text": [
      "total number of days: 10957\n"
     ]
    }
   ],
   "source": [
    "# Need first to encode dates in a python friendly to specify the length of the desired time period. \n",
    "# Use the datetime module - it is the general way to handle dates in python. \n",
    "start = datetime.datetime(1990,1,1)\n",
    "end = datetime.datetime(2020,1,1)\n",
    "timespan = end - start # We can investigate the precise time span by just subtracting to time variables.\n",
    "print('total number of days:', timespan.days) # The timespan object has a days attribute."
   ]
  },
  {
   "cell_type": "code",
   "execution_count": 108,
   "metadata": {},
   "outputs": [
    {
     "data": {
      "text/html": [
       "<div>\n",
       "<style scoped>\n",
       "    .dataframe tbody tr th:only-of-type {\n",
       "        vertical-align: middle;\n",
       "    }\n",
       "\n",
       "    .dataframe tbody tr th {\n",
       "        vertical-align: top;\n",
       "    }\n",
       "\n",
       "    .dataframe thead th {\n",
       "        text-align: right;\n",
       "    }\n",
       "</style>\n",
       "<table border=\"1\" class=\"dataframe\">\n",
       "  <thead>\n",
       "    <tr style=\"text-align: right;\">\n",
       "      <th></th>\n",
       "      <th>CPI_USA</th>\n",
       "      <th>CPI_CA</th>\n",
       "      <th>CPI_UK</th>\n",
       "    </tr>\n",
       "    <tr>\n",
       "      <th>DATE</th>\n",
       "      <th></th>\n",
       "      <th></th>\n",
       "      <th></th>\n",
       "    </tr>\n",
       "  </thead>\n",
       "  <tbody>\n",
       "    <tr>\n",
       "      <th>1990-01-01</th>\n",
       "      <td>5.397956</td>\n",
       "      <td>8.0</td>\n",
       "      <td>4.780477</td>\n",
       "    </tr>\n",
       "    <tr>\n",
       "      <th>1991-01-01</th>\n",
       "      <td>4.234964</td>\n",
       "      <td>7.5</td>\n",
       "      <td>5.625864</td>\n",
       "    </tr>\n",
       "    <tr>\n",
       "      <th>1992-01-01</th>\n",
       "      <td>3.028820</td>\n",
       "      <td>4.6</td>\n",
       "      <td>1.490133</td>\n",
       "    </tr>\n",
       "    <tr>\n",
       "      <th>1993-01-01</th>\n",
       "      <td>2.951657</td>\n",
       "      <td>2.6</td>\n",
       "      <td>1.865079</td>\n",
       "    </tr>\n",
       "    <tr>\n",
       "      <th>1994-01-01</th>\n",
       "      <td>2.607442</td>\n",
       "      <td>2.2</td>\n",
       "      <td>0.165563</td>\n",
       "    </tr>\n",
       "  </tbody>\n",
       "</table>\n",
       "</div>"
      ],
      "text/plain": [
       "             CPI_USA  CPI_CA    CPI_UK\n",
       "DATE                                  \n",
       "1990-01-01  5.397956     8.0  4.780477\n",
       "1991-01-01  4.234964     7.5  5.625864\n",
       "1992-01-01  3.028820     4.6  1.490133\n",
       "1993-01-01  2.951657     2.6  1.865079\n",
       "1994-01-01  2.607442     2.2  0.165563"
      ]
     },
     "execution_count": 108,
     "metadata": {},
     "output_type": "execute_result"
    }
   ],
   "source": [
    "# Call the FRED api using pandas_datareader \n",
    "inflation = pandas_datareader.data.DataReader([CPI_USA, CPI_UK, CPI_CAN], 'fred', start, end)\n",
    "inflation = inflation.rename(columns = {'CPALTT01USA659N':'CPI_USA','CPALTT01GBA659N':'CPI_CA','CPALTT01CAA657N':'CPI_UK'})\n",
    "inflation.head(5)"
   ]
  },
  {
   "cell_type": "code",
   "execution_count": 109,
   "metadata": {},
   "outputs": [
    {
     "data": {
      "text/html": [
       "<div>\n",
       "<style scoped>\n",
       "    .dataframe tbody tr th:only-of-type {\n",
       "        vertical-align: middle;\n",
       "    }\n",
       "\n",
       "    .dataframe tbody tr th {\n",
       "        vertical-align: top;\n",
       "    }\n",
       "\n",
       "    .dataframe thead th {\n",
       "        text-align: right;\n",
       "    }\n",
       "</style>\n",
       "<table border=\"1\" class=\"dataframe\">\n",
       "  <thead>\n",
       "    <tr style=\"text-align: right;\">\n",
       "      <th></th>\n",
       "      <th>USUK_EX</th>\n",
       "      <th>CAUS_EX</th>\n",
       "    </tr>\n",
       "    <tr>\n",
       "      <th>DATE</th>\n",
       "      <th></th>\n",
       "      <th></th>\n",
       "    </tr>\n",
       "  </thead>\n",
       "  <tbody>\n",
       "    <tr>\n",
       "      <th>1990-01-01</th>\n",
       "      <td>1.7841</td>\n",
       "      <td>1.1668</td>\n",
       "    </tr>\n",
       "    <tr>\n",
       "      <th>1991-01-01</th>\n",
       "      <td>1.7674</td>\n",
       "      <td>1.1460</td>\n",
       "    </tr>\n",
       "    <tr>\n",
       "      <th>1992-01-01</th>\n",
       "      <td>1.7663</td>\n",
       "      <td>1.2085</td>\n",
       "    </tr>\n",
       "    <tr>\n",
       "      <th>1993-01-01</th>\n",
       "      <td>1.5016</td>\n",
       "      <td>1.2902</td>\n",
       "    </tr>\n",
       "    <tr>\n",
       "      <th>1994-01-01</th>\n",
       "      <td>1.5319</td>\n",
       "      <td>1.3664</td>\n",
       "    </tr>\n",
       "  </tbody>\n",
       "</table>\n",
       "</div>"
      ],
      "text/plain": [
       "            USUK_EX  CAUS_EX\n",
       "DATE                        \n",
       "1990-01-01   1.7841   1.1668\n",
       "1991-01-01   1.7674   1.1460\n",
       "1992-01-01   1.7663   1.2085\n",
       "1993-01-01   1.5016   1.2902\n",
       "1994-01-01   1.5319   1.3664"
      ]
     },
     "execution_count": 109,
     "metadata": {},
     "output_type": "execute_result"
    }
   ],
   "source": [
    "# Call the FRED api using pandas_datareader \n",
    "exchange = pandas_datareader.data.DataReader([EX_UK, EX_CAN], 'fred', start, end)\n",
    "exchange = exchange.rename(columns = {'AEXUSUK':'USUK_EX','AEXCAUS':'CAUS_EX'})\n",
    "exchange.head(5)"
   ]
  },
  {
   "cell_type": "markdown",
   "metadata": {},
   "source": [
    "## Explore each data set"
   ]
  },
  {
   "cell_type": "markdown",
   "metadata": {},
   "source": [
    "In order to be able to **explore the raw data**, you may provide **static** and **interactive plots** to show important developments "
   ]
  },
  {
   "cell_type": "markdown",
   "metadata": {},
   "source": [
    "**Interactive plot** :"
   ]
  },
  {
   "cell_type": "code",
   "execution_count": 90,
   "metadata": {},
   "outputs": [
    {
     "data": {
      "image/png": "[encoded data removed]",
      "text/plain": [
       "<Figure size 640x480 with 1 Axes>"
      ]
     },
     "metadata": {},
     "output_type": "display_data"
    }
   ],
   "source": [
    "fig = plt.figure()\n",
    "ax = fig.add_subplot(1,1,1)\n",
    "\n",
    "# Now we are just plotting directly from the pandas dataframe. Still using matplotlib under the hood.\n",
    "inflation.plot(ax=ax)\n",
    "\n",
    "ax.legend(frameon=True)\n",
    "ax.set_xlabel('year')\n",
    "ax.set_ylabel('Growth rate previous period, Not Seasonally Adjusted');"
   ]
  },
  {
   "cell_type": "markdown",
   "metadata": {},
   "source": [
    "# Merge data sets"
   ]
  },
  {
   "cell_type": "markdown",
   "metadata": {},
   "source": [
    "Now you create combinations of your loaded data sets. Remember the illustration of a (inner) **merge**:"
   ]
  },
  {
   "cell_type": "code",
   "execution_count": 155,
   "metadata": {},
   "outputs": [
    {
     "data": {
      "text/html": [
       "<div>\n",
       "<style scoped>\n",
       "    .dataframe tbody tr th:only-of-type {\n",
       "        vertical-align: middle;\n",
       "    }\n",
       "\n",
       "    .dataframe tbody tr th {\n",
       "        vertical-align: top;\n",
       "    }\n",
       "\n",
       "    .dataframe thead th {\n",
       "        text-align: right;\n",
       "    }\n",
       "</style>\n",
       "<table border=\"1\" class=\"dataframe\">\n",
       "  <thead>\n",
       "    <tr style=\"text-align: right;\">\n",
       "      <th></th>\n",
       "      <th>CPI_USA</th>\n",
       "      <th>CPI_CA</th>\n",
       "      <th>CPI_UK</th>\n",
       "      <th>USUK_EX</th>\n",
       "      <th>CAUS_EX</th>\n",
       "      <th>CA_pct_dif_from_USA_CPI</th>\n",
       "      <th>UK_pct_dif_from_USA_CPI</th>\n",
       "      <th>USUK_EX_DIF</th>\n",
       "      <th>CAUS_EX_DIF</th>\n",
       "    </tr>\n",
       "    <tr>\n",
       "      <th>DATE</th>\n",
       "      <th></th>\n",
       "      <th></th>\n",
       "      <th></th>\n",
       "      <th></th>\n",
       "      <th></th>\n",
       "      <th></th>\n",
       "      <th></th>\n",
       "      <th></th>\n",
       "      <th></th>\n",
       "    </tr>\n",
       "  </thead>\n",
       "  <tbody>\n",
       "    <tr>\n",
       "      <th>1990-01-01</th>\n",
       "      <td>5.397956</td>\n",
       "      <td>8.0</td>\n",
       "      <td>4.780477</td>\n",
       "      <td>1.7841</td>\n",
       "      <td>1.1668</td>\n",
       "      <td>48.204234</td>\n",
       "      <td>-11.439135</td>\n",
       "      <td>NaN</td>\n",
       "      <td>NaN</td>\n",
       "    </tr>\n",
       "    <tr>\n",
       "      <th>1991-01-01</th>\n",
       "      <td>4.234964</td>\n",
       "      <td>7.5</td>\n",
       "      <td>5.625864</td>\n",
       "      <td>1.7674</td>\n",
       "      <td>1.1460</td>\n",
       "      <td>77.097139</td>\n",
       "      <td>32.843258</td>\n",
       "      <td>0.936046</td>\n",
       "      <td>-1.782653</td>\n",
       "    </tr>\n",
       "    <tr>\n",
       "      <th>1992-01-01</th>\n",
       "      <td>3.028820</td>\n",
       "      <td>4.6</td>\n",
       "      <td>1.490133</td>\n",
       "      <td>1.7663</td>\n",
       "      <td>1.2085</td>\n",
       "      <td>51.874343</td>\n",
       "      <td>-50.801531</td>\n",
       "      <td>0.062238</td>\n",
       "      <td>5.453752</td>\n",
       "    </tr>\n",
       "    <tr>\n",
       "      <th>1993-01-01</th>\n",
       "      <td>2.951657</td>\n",
       "      <td>2.6</td>\n",
       "      <td>1.865079</td>\n",
       "      <td>1.5016</td>\n",
       "      <td>1.2902</td>\n",
       "      <td>-11.913883</td>\n",
       "      <td>-36.812462</td>\n",
       "      <td>14.986129</td>\n",
       "      <td>6.760447</td>\n",
       "    </tr>\n",
       "    <tr>\n",
       "      <th>1994-01-01</th>\n",
       "      <td>2.607442</td>\n",
       "      <td>2.2</td>\n",
       "      <td>0.165563</td>\n",
       "      <td>1.5319</td>\n",
       "      <td>1.3664</td>\n",
       "      <td>-15.626106</td>\n",
       "      <td>-93.650369</td>\n",
       "      <td>-2.017848</td>\n",
       "      <td>5.906061</td>\n",
       "    </tr>\n",
       "    <tr>\n",
       "      <th>1995-01-01</th>\n",
       "      <td>2.805420</td>\n",
       "      <td>2.7</td>\n",
       "      <td>2.148760</td>\n",
       "      <td>1.5785</td>\n",
       "      <td>1.3725</td>\n",
       "      <td>-3.757715</td>\n",
       "      <td>-23.406814</td>\n",
       "      <td>-3.041974</td>\n",
       "      <td>0.446429</td>\n",
       "    </tr>\n",
       "    <tr>\n",
       "      <th>1996-01-01</th>\n",
       "      <td>2.931204</td>\n",
       "      <td>2.9</td>\n",
       "      <td>1.570531</td>\n",
       "      <td>1.5607</td>\n",
       "      <td>1.3638</td>\n",
       "      <td>-1.064552</td>\n",
       "      <td>-46.420276</td>\n",
       "      <td>1.127653</td>\n",
       "      <td>-0.633880</td>\n",
       "    </tr>\n",
       "    <tr>\n",
       "      <th>1997-01-01</th>\n",
       "      <td>2.337690</td>\n",
       "      <td>2.2</td>\n",
       "      <td>1.621216</td>\n",
       "      <td>1.6376</td>\n",
       "      <td>1.3849</td>\n",
       "      <td>-5.890000</td>\n",
       "      <td>-30.648785</td>\n",
       "      <td>-4.927276</td>\n",
       "      <td>1.547148</td>\n",
       "    </tr>\n",
       "    <tr>\n",
       "      <th>1998-01-01</th>\n",
       "      <td>1.552279</td>\n",
       "      <td>1.8</td>\n",
       "      <td>0.995942</td>\n",
       "      <td>1.6573</td>\n",
       "      <td>1.4836</td>\n",
       "      <td>15.958528</td>\n",
       "      <td>-35.839988</td>\n",
       "      <td>-1.202980</td>\n",
       "      <td>7.126868</td>\n",
       "    </tr>\n",
       "    <tr>\n",
       "      <th>1999-01-01</th>\n",
       "      <td>2.188027</td>\n",
       "      <td>1.7</td>\n",
       "      <td>1.734843</td>\n",
       "      <td>1.6172</td>\n",
       "      <td>1.4858</td>\n",
       "      <td>-22.304439</td>\n",
       "      <td>-20.712002</td>\n",
       "      <td>2.419598</td>\n",
       "      <td>0.148288</td>\n",
       "    </tr>\n",
       "  </tbody>\n",
       "</table>\n",
       "</div>"
      ],
      "text/plain": [
       "             CPI_USA  CPI_CA    CPI_UK  USUK_EX  CAUS_EX  \\\n",
       "DATE                                                       \n",
       "1990-01-01  5.397956     8.0  4.780477   1.7841   1.1668   \n",
       "1991-01-01  4.234964     7.5  5.625864   1.7674   1.1460   \n",
       "1992-01-01  3.028820     4.6  1.490133   1.7663   1.2085   \n",
       "1993-01-01  2.951657     2.6  1.865079   1.5016   1.2902   \n",
       "1994-01-01  2.607442     2.2  0.165563   1.5319   1.3664   \n",
       "1995-01-01  2.805420     2.7  2.148760   1.5785   1.3725   \n",
       "1996-01-01  2.931204     2.9  1.570531   1.5607   1.3638   \n",
       "1997-01-01  2.337690     2.2  1.621216   1.6376   1.3849   \n",
       "1998-01-01  1.552279     1.8  0.995942   1.6573   1.4836   \n",
       "1999-01-01  2.188027     1.7  1.734843   1.6172   1.4858   \n",
       "\n",
       "            CA_pct_dif_from_USA_CPI  UK_pct_dif_from_USA_CPI  USUK_EX_DIF  \\\n",
       "DATE                                                                        \n",
       "1990-01-01                48.204234               -11.439135          NaN   \n",
       "1991-01-01                77.097139                32.843258     0.936046   \n",
       "1992-01-01                51.874343               -50.801531     0.062238   \n",
       "1993-01-01               -11.913883               -36.812462    14.986129   \n",
       "1994-01-01               -15.626106               -93.650369    -2.017848   \n",
       "1995-01-01                -3.757715               -23.406814    -3.041974   \n",
       "1996-01-01                -1.064552               -46.420276     1.127653   \n",
       "1997-01-01                -5.890000               -30.648785    -4.927276   \n",
       "1998-01-01                15.958528               -35.839988    -1.202980   \n",
       "1999-01-01               -22.304439               -20.712002     2.419598   \n",
       "\n",
       "            CAUS_EX_DIF  \n",
       "DATE                     \n",
       "1990-01-01          NaN  \n",
       "1991-01-01    -1.782653  \n",
       "1992-01-01     5.453752  \n",
       "1993-01-01     6.760447  \n",
       "1994-01-01     5.906061  \n",
       "1995-01-01     0.446429  \n",
       "1996-01-01    -0.633880  \n",
       "1997-01-01     1.547148  \n",
       "1998-01-01     7.126868  \n",
       "1999-01-01     0.148288  "
      ]
     },
     "execution_count": 155,
     "metadata": {},
     "output_type": "execute_result"
    }
   ],
   "source": [
    "ppp = pd.merge(inflation, exchange, how = 'outer', on = ['DATE']); \n",
    "ppp['CA_pct_dif_from_USA_CPI'] = ((ppp.CPI_CA-ppp.CPI_USA) / ppp.CPI_USA) * 100 # the pct. difference between inflation in canada and USA\n",
    "ppp['UK_pct_dif_from_USA_CPI'] = ((ppp.CPI_UK-ppp.CPI_USA) / ppp.CPI_USA) * 100 # the pct. difference between inflation in UK and USA\n",
    "ppp['USUK_EX_DIF'] = (ppp['USUK_EX'].diff() / ppp['USUK_EX'].shift(1)) * 100 *(-1) #tjek vejen\n",
    "ppp['CAUS_EX_DIF'] = ((ppp['CAUS_EX'].diff() / ppp['CAUS_EX'].shift(1)) * 100) #tjek vejen \n",
    "ppp.head(10)"
   ]
  },
  {
   "cell_type": "markdown",
   "metadata": {},
   "source": [
    "# Analysis"
   ]
  },
  {
   "cell_type": "markdown",
   "metadata": {},
   "source": [
    "To get a quick overview of the data, we show some **summary statistics** on a meaningful aggregation. "
   ]
  },
  {
   "cell_type": "markdown",
   "metadata": {},
   "source": [
    "MAKE FURTHER ANALYSIS. EXPLAIN THE CODE BRIEFLY AND SUMMARIZE THE RESULTS."
   ]
  },
  {
   "cell_type": "markdown",
   "metadata": {},
   "source": [
    "Check and remove outliers"
   ]
  },
  {
   "cell_type": "code",
   "execution_count": 157,
   "metadata": {},
   "outputs": [
    {
     "name": "stdout",
     "output_type": "stream",
     "text": [
      "            CA_pct_dif_from_USA_CPI  UK_pct_dif_from_USA_CPI\n",
      "DATE                                                        \n",
      "1990-01-01                 0.486010                -0.095479\n",
      "1991-01-01                 0.708857                 0.182559\n",
      "1992-01-01                 0.514318                -0.342625\n",
      "1993-01-01                 0.022328                -0.254791\n",
      "1994-01-01                -0.006304                -0.611662\n",
      "1995-01-01                 0.085235                -0.170621\n",
      "1996-01-01                 0.106007                -0.315116\n",
      "1997-01-01                 0.068789                -0.216091\n",
      "1998-01-01                 0.237304                -0.248685\n",
      "1999-01-01                -0.057813                -0.153701\n",
      "2000-01-01                -0.382984                -0.145892\n",
      "2001-01-01                -0.220415                -0.090538\n",
      "2002-01-01                 0.072381                 0.242518\n",
      "2003-01-01                -0.181405                 0.111448\n",
      "2004-01-01                -0.253742                -0.215959\n",
      "2005-01-01                -0.179667                -0.241882\n",
      "2006-01-01                -0.059347                -0.261870\n",
      "2007-01-01                -0.008173                -0.180871\n",
      "2008-01-01                 0.046092                -0.263878\n",
      "2009-01-01                -4.995667                -1.180370\n",
      "2010-01-01                 0.518642                 0.028728\n",
      "2011-01-01                 0.271356                -0.072326\n",
      "2012-01-01                 0.312007                -0.191646\n",
      "2013-01-01                 0.553963                -0.249348\n",
      "2014-01-01                 0.056107                 0.086425\n",
      "2015-01-01                 1.943639                 5.304189\n",
      "2016-01-01                -0.045705                 0.059546\n",
      "2017-01-01                 0.284359                -0.180830\n",
      "2018-01-01                 0.069195                -0.068475\n",
      "2019-01-01                 0.066461                 0.023831\n",
      "2020-01-01                -0.031828                -0.286589\n"
     ]
    },
    {
     "data": {
      "text/html": [
       "<div>\n",
       "<style scoped>\n",
       "    .dataframe tbody tr th:only-of-type {\n",
       "        vertical-align: middle;\n",
       "    }\n",
       "\n",
       "    .dataframe tbody tr th {\n",
       "        vertical-align: top;\n",
       "    }\n",
       "\n",
       "    .dataframe thead th {\n",
       "        text-align: right;\n",
       "    }\n",
       "</style>\n",
       "<table border=\"1\" class=\"dataframe\">\n",
       "  <thead>\n",
       "    <tr style=\"text-align: right;\">\n",
       "      <th></th>\n",
       "      <th>CPI_USA</th>\n",
       "      <th>CPI_CA</th>\n",
       "      <th>CPI_UK</th>\n",
       "      <th>USUK_EX</th>\n",
       "      <th>CAUS_EX</th>\n",
       "      <th>CA_pct_dif_from_USA_CPI</th>\n",
       "      <th>UK_pct_dif_from_USA_CPI</th>\n",
       "      <th>USUK_EX_DIF</th>\n",
       "      <th>CAUS_EX_DIF</th>\n",
       "    </tr>\n",
       "    <tr>\n",
       "      <th>DATE</th>\n",
       "      <th></th>\n",
       "      <th></th>\n",
       "      <th></th>\n",
       "      <th></th>\n",
       "      <th></th>\n",
       "      <th></th>\n",
       "      <th></th>\n",
       "      <th></th>\n",
       "      <th></th>\n",
       "    </tr>\n",
       "  </thead>\n",
       "  <tbody>\n",
       "    <tr>\n",
       "      <th>1991-01-01</th>\n",
       "      <td>4.234964</td>\n",
       "      <td>7.5</td>\n",
       "      <td>5.625864</td>\n",
       "      <td>1.7674</td>\n",
       "      <td>1.1460</td>\n",
       "      <td>77.097139</td>\n",
       "      <td>32.843258</td>\n",
       "      <td>0.936046</td>\n",
       "      <td>-1.782653</td>\n",
       "    </tr>\n",
       "    <tr>\n",
       "      <th>1992-01-01</th>\n",
       "      <td>3.028820</td>\n",
       "      <td>4.6</td>\n",
       "      <td>1.490133</td>\n",
       "      <td>1.7663</td>\n",
       "      <td>1.2085</td>\n",
       "      <td>51.874343</td>\n",
       "      <td>-50.801531</td>\n",
       "      <td>0.062238</td>\n",
       "      <td>5.453752</td>\n",
       "    </tr>\n",
       "    <tr>\n",
       "      <th>1993-01-01</th>\n",
       "      <td>2.951657</td>\n",
       "      <td>2.6</td>\n",
       "      <td>1.865079</td>\n",
       "      <td>1.5016</td>\n",
       "      <td>1.2902</td>\n",
       "      <td>-11.913883</td>\n",
       "      <td>-36.812462</td>\n",
       "      <td>14.986129</td>\n",
       "      <td>6.760447</td>\n",
       "    </tr>\n",
       "    <tr>\n",
       "      <th>1994-01-01</th>\n",
       "      <td>2.607442</td>\n",
       "      <td>2.2</td>\n",
       "      <td>0.165563</td>\n",
       "      <td>1.5319</td>\n",
       "      <td>1.3664</td>\n",
       "      <td>-15.626106</td>\n",
       "      <td>-93.650369</td>\n",
       "      <td>-2.017848</td>\n",
       "      <td>5.906061</td>\n",
       "    </tr>\n",
       "    <tr>\n",
       "      <th>1995-01-01</th>\n",
       "      <td>2.805420</td>\n",
       "      <td>2.7</td>\n",
       "      <td>2.148760</td>\n",
       "      <td>1.5785</td>\n",
       "      <td>1.3725</td>\n",
       "      <td>-3.757715</td>\n",
       "      <td>-23.406814</td>\n",
       "      <td>-3.041974</td>\n",
       "      <td>0.446429</td>\n",
       "    </tr>\n",
       "  </tbody>\n",
       "</table>\n",
       "</div>"
      ],
      "text/plain": [
       "             CPI_USA  CPI_CA    CPI_UK  USUK_EX  CAUS_EX  \\\n",
       "DATE                                                       \n",
       "1991-01-01  4.234964     7.5  5.625864   1.7674   1.1460   \n",
       "1992-01-01  3.028820     4.6  1.490133   1.7663   1.2085   \n",
       "1993-01-01  2.951657     2.6  1.865079   1.5016   1.2902   \n",
       "1994-01-01  2.607442     2.2  0.165563   1.5319   1.3664   \n",
       "1995-01-01  2.805420     2.7  2.148760   1.5785   1.3725   \n",
       "\n",
       "            CA_pct_dif_from_USA_CPI  UK_pct_dif_from_USA_CPI  USUK_EX_DIF  \\\n",
       "DATE                                                                        \n",
       "1991-01-01                77.097139                32.843258     0.936046   \n",
       "1992-01-01                51.874343               -50.801531     0.062238   \n",
       "1993-01-01               -11.913883               -36.812462    14.986129   \n",
       "1994-01-01               -15.626106               -93.650369    -2.017848   \n",
       "1995-01-01                -3.757715               -23.406814    -3.041974   \n",
       "\n",
       "            CAUS_EX_DIF  \n",
       "DATE                     \n",
       "1991-01-01    -1.782653  \n",
       "1992-01-01     5.453752  \n",
       "1993-01-01     6.760447  \n",
       "1994-01-01     5.906061  \n",
       "1995-01-01     0.446429  "
      ]
     },
     "execution_count": 157,
     "metadata": {},
     "output_type": "execute_result"
    }
   ],
   "source": [
    "# Calculate z-scores for each data point\n",
    "outlier_columns = ['CA_pct_dif_from_USA_CPI', 'UK_pct_dif_from_USA_CPI']\n",
    "z_scores = stats.zscore(ppp[outlier_columns])\n",
    "print(z_scores)\n",
    "\n",
    "# Define a threshold for z-score\n",
    "threshold = 3  # Adjust this threshold as needed\n",
    "\n",
    "# Filter out rows where the absolute z-score exceeds the threshold\n",
    "filtered_ppp = ppp[((z_scores < threshold) & (z_scores > -threshold)).all(axis=1)]\n",
    "filtered_ppp = filtered_ppp.drop(filtered_ppp.index[0])\n",
    "filtered_ppp.head()\n",
    "\n"
   ]
  },
  {
   "cell_type": "code",
   "execution_count": 159,
   "metadata": {},
   "outputs": [
    {
     "data": {
      "image/png": "[encoded data removed]",
      "text/plain": [
       "<Figure size 640x480 with 1 Axes>"
      ]
     },
     "metadata": {},
     "output_type": "display_data"
    }
   ],
   "source": [
    "# Extract x and y values from the filtered DataFrame\n",
    "filtered_pct_dif_infl_UKUS = filtered_ppp['UK_pct_dif_from_USA_CPI']\n",
    "filtered_pct_dif_ex_UKUS = filtered_ppp['USUK_EX_DIF'] \n",
    "filtered_pct_dif_infl_CAUS = filtered_ppp['CA_pct_dif_from_USA_CPI']\n",
    "filtered_pct_dif_ex_CAUS = filtered_ppp['CAUS_EX_DIF']\n",
    "filtered_ppp['x_diagonal'] = np.linspace(-100, 100, 28)\n",
    "filtered_ppp['y_diagonal'] = filtered_ppp['x_diagonal']\n",
    "\n",
    "# Create a scatterplot\n",
    "plt.scatter(filtered_pct_dif_ex_UKUS, filtered_pct_dif_infl_UKUS, label=\"UK Data\")\n",
    "plt.scatter(filtered_pct_dif_ex_CAUS, filtered_pct_dif_infl_CAUS, label=\"Canada Data\")\n",
    "\n",
    "# Add the diagonal line\n",
    "plt.plot(filtered_ppp['x_diagonal'], filtered_ppp['y_diagonal'], color='black', linestyle='--', label='Diagonal Line')\n",
    "\n",
    "# Add labels and title\n",
    "plt.xlabel('Percentage Difference in Exchange Rate')\n",
    "plt.ylabel('Percentage Difference in Inflation')\n",
    "plt.title('Scatterplot of Inflation vs Exchange Rate (Outliers Removed)')\n",
    "\n",
    "# Add legend\n",
    "plt.legend()\n",
    "\n",
    "# Show the plot\n",
    "plt.show()"
   ]
  },
  {
   "cell_type": "markdown",
   "metadata": {},
   "source": [
    "# Conclusion"
   ]
  },
  {
   "cell_type": "markdown",
   "metadata": {},
   "source": [
    "ADD CONCISE CONLUSION."
   ]
  },
  {
   "cell_type": "markdown",
   "metadata": {},
   "source": []
  },
  {
   "cell_type": "markdown",
   "metadata": {},
   "source": []
  }
 ],
 "metadata": {
  "kernelspec": {
   "display_name": "base",
   "language": "python",
   "name": "python3"
  },
  "language_info": {
   "codemirror_mode": {
    "name": "ipython",
    "version": 3
   },
   "file_extension": ".py",
   "mimetype": "text/x-python",
   "name": "python",
   "nbconvert_exporter": "python",
   "pygments_lexer": "ipython3",
   "version": "3.11.7"
  },
  "toc-autonumbering": true,
  "vscode": {
   "interpreter": {
    "hash": "47ef90cdf3004d3f859f1fb202523c65c07ba7c22eefd261b181f4744e2d0403"
   }
  }
 },
 "nbformat": 4,
 "nbformat_minor": 4
}
